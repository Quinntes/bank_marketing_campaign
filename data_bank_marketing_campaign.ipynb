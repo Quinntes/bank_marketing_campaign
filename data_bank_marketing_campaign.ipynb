{
 "cells": [
  {
   "cell_type": "markdown",
   "id": "c5d3eaab",
   "metadata": {},
   "source": [
    "<center>\n",
    "    <h1 style=\"font-size: 36px; font-weight: bold;\">Predicting Potential Deposit Customers Using Machine Learning to Optimize Telemarketing Campaigns</h1>\n",
    "</center>"
   ]
  },
  {
   "cell_type": "markdown",
   "id": "78f59375",
   "metadata": {},
   "source": [
    "## Business Problem\n",
    "Tim marketing memiliki data mengenai kampanye telemarketing untuk produk deposito berjangka. Data ini mencakup nasabah yang berdeposito dan yang tidak berdeposito setelah menerima penawaran dari telemarketing.\n",
    "\n",
    "### Permasalahan:\n",
    "Tim marketing tidak selalu tahu nasabah mana yang akan berdeposito, meskipun sudah ada data yang tersedia mengenai interaksi mereka dengan pihak bank (seperti usia, status pekerjaan, saldo rekening, dan sebagainya).\n",
    "\n",
    "### Metric:\n",
    "#### False Positives (FP):\n",
    "ML memprediksi nasabah akan berdeposito, padahal kenyataannya mereka tidak berdeposito.\n",
    "**Konsekuensi:**\n",
    "- Jika nasabah diprediksi akan berdeposito, tim marketing menghubungi nasabah tersebut. Hal ini menyebabkan biaya telemarketing yang tidak perlu.\n",
    "- Biaya: Setiap panggilan telemarketing menghabiskan biaya untuk tenaga kerja dan sumber daya lainnya.\n",
    "\n",
    "#### False Negatives (FN):\n",
    "ML memprediksi nasabah akan tetap tidak berdeposito, padahal kenyataannya mereka berdeposito.\n",
    "**Konsekuensi:**\n",
    "- Jika nasabah diprediksi tidak akan berdeposito, tim marketing tidak menghubungi mereka. Ini menyebabkan kesempatan yang hilang untuk meningkatkan conversion rate dari kampanye.\n",
    "- Biaya: Kehilangan potensi pendapatan karena nasabah yang sebenarnya berpotensi berdeposito tidak dihubungi.\n",
    "\n",
    "### Cost Perbandingan:\n",
    "Cost untuk melakukan telemarketing ke nasabah yang tidak berpotensi (FP) dianggap lebih rendah dibandingkan dengan biaya peluang dari kehilangan nasabah potensial yang seharusnya berdeposito (FN).\n",
    "Oleh karena itu, cost FN lebih besar daripada cost FP. Hal ini membuat mendeteksi nasabah yang sebenarnya berdeposito menjadi prioritas utama.\n",
    "\n",
    "### Maka dari itu, metric yang dipakai adalah:\n",
    "**Recall:**\n",
    "- Fokus utama adalah mendeteksi sebanyak mungkin nasabah yang akan berdeposito. Menghindari false negatives sangat penting untuk memaksimalkan conversion rate dan pendapatan dari kampanye telemarketing.\n",
    "- Meskipun ada beberapa false positives (nasabah yang tidak akan berdeposito), biaya telemarketing lebih mudah dikelola dan tidak sebesar biaya peluang yang hilang akibat melewatkan prospek yang seharusnya berdeposito."
   ]
  },
  {
   "cell_type": "code",
   "execution_count": 1,
   "id": "53a9de60",
   "metadata": {},
   "outputs": [],
   "source": [
    "# Load library\n",
    "import numpy as np\n",
    "import pandas as pd\n",
    "import seaborn as sns\n",
    "import matplotlib.pyplot as plt\n",
    "\n",
    "from sklearn.model_selection import train_test_split\n",
    "from sklearn.pipeline import Pipeline\n",
    "from sklearn.preprocessing import RobustScaler, OneHotEncoder\n",
    "from sklearn.compose import ColumnTransformer\n",
    "\n",
    "import warnings\n",
    "warnings.filterwarnings('ignore')"
   ]
  },
  {
   "cell_type": "markdown",
   "id": "b891edb5",
   "metadata": {},
   "source": [
    "**Penjelasan:**\n",
    "- `import numpy as np`: Mengimpor library `NumPy` yang digunakan untuk manipulasi data numerik dan array multidimensi.\n",
    "- `import pandas as pd`: Mengimpor `pandas` untuk manipulasi dan analisis data, terutama data berbentuk tabel (DataFrame).\n",
    "- `import seaborn as sns`: Mengimpor `seaborn` untuk visualisasi data statistik dengan cara yang lebih estetis dan mudah digunakan.\n",
    "- `import matplotlib.pyplot as plt`: Mengimpor `matplotlib` untuk membuat berbagai jenis plot visualisasi data.\n",
    "- `warnings.filterwarnings('ignore')`: Mengabaikan peringatan yang muncul selama eksekusi kode. Hal ini untuk menjaga kebersihan output."
   ]
  },
  {
   "cell_type": "markdown",
   "id": "e91b5955",
   "metadata": {},
   "source": [
    "## Data Understanding & Preparation\n",
    "Pada tahap ini, dilakukan persiapan dataset yang akan digunakan dalam analisis. Proses ini meliputi pemahaman awal terhadap dataset dan pembersihan data untuk memastikan kualitas data yang baik sebelum digunakan untuk model klasifikasi."
   ]
  },
  {
   "cell_type": "markdown",
   "id": "fb2ef689",
   "metadata": {},
   "source": [
    "### 1. Read Dataset\n",
    "Dataset dibaca dari file CSV dan disimpan dalam DataFrame. Dataset ini berisi informasi mengenai kampanye pemasaran deposito berjangka, dengan tujuan untuk memprediksi apakah nasabah akan melakukan deposit atau tidak."
   ]
  },
  {
   "cell_type": "code",
   "execution_count": 2,
   "id": "e9160e95",
   "metadata": {},
   "outputs": [],
   "source": [
    "# Read dataset\n",
    "df = pd.read_csv('data_bank_marketing_campaign.csv')"
   ]
  },
  {
   "cell_type": "markdown",
   "id": "196eb71f",
   "metadata": {},
   "source": [
    "**Penjelasan:**\n",
    "- `pd.read_csv('data_bank_marketing_campaign.csv')`: Membaca file CSV yang berisi dataset tentang kampanye pemasaran deposito berjangka dan menyimpannya ke dalam sebuah DataFrame `df_raw`."
   ]
  },
  {
   "cell_type": "markdown",
   "id": "16878781",
   "metadata": {},
   "source": [
    "### 2. Creating a Backup\n",
    "Salinan dataset dibuat untuk memastikan data asli tetap utuh, agar perubahan atau pembersihan data tidak memengaruhi dataset asli."
   ]
  },
  {
   "cell_type": "code",
   "execution_count": 3,
   "id": "eb60a083",
   "metadata": {},
   "outputs": [],
   "source": [
    "# Backup\n",
    "df_copy = df.copy()"
   ]
  },
  {
   "cell_type": "markdown",
   "id": "227fc47d",
   "metadata": {},
   "source": [
    "**Penjelasan:**\n",
    "- `df_raw.copy()`: Membuat salinan dari dataset agar data asli tetap utuh, sehingga perubahan atau pembersihan data yang dilakukan tidak akan memengaruhi data asli.\n",
    "- `df_copy`: Variabel baru yang menyimpan salinan data tanpa mempengaruhi dataset asli."
   ]
  },
  {
   "cell_type": "markdown",
   "id": "be3e42a2",
   "metadata": {},
   "source": [
    "### 3. Data Overview\n",
    "Informasi mengenai kolom dan tipe data pada dataset ditampilkan untuk memberikan gambaran awal tentang struktur dataset."
   ]
  },
  {
   "cell_type": "code",
   "execution_count": 4,
   "id": "0d990cd7",
   "metadata": {},
   "outputs": [
    {
     "name": "stdout",
     "output_type": "stream",
     "text": [
      "<class 'pandas.core.frame.DataFrame'>\n",
      "RangeIndex: 7813 entries, 0 to 7812\n",
      "Data columns (total 11 columns):\n",
      " #   Column    Non-Null Count  Dtype \n",
      "---  ------    --------------  ----- \n",
      " 0   age       7813 non-null   int64 \n",
      " 1   job       7813 non-null   object\n",
      " 2   balance   7813 non-null   int64 \n",
      " 3   housing   7813 non-null   object\n",
      " 4   loan      7813 non-null   object\n",
      " 5   contact   7813 non-null   object\n",
      " 6   month     7813 non-null   object\n",
      " 7   campaign  7813 non-null   int64 \n",
      " 8   pdays     7813 non-null   int64 \n",
      " 9   poutcome  7813 non-null   object\n",
      " 10  deposit   7813 non-null   object\n",
      "dtypes: int64(4), object(7)\n",
      "memory usage: 671.6+ KB\n"
     ]
    }
   ],
   "source": [
    "# Data overview\n",
    "df_copy.info()"
   ]
  },
  {
   "cell_type": "markdown",
   "id": "28e089a4",
   "metadata": {},
   "source": [
    "### 4. Selecting Relevant Columns for Analysis\n",
    "Kolom-kolom yang relevan untuk analisis dan pemodelan dipilih. Kolom target, yaitu apakah nasabah melakukan deposit atau tidak, juga dipilih sebagai variabel yang akan diprediksi."
   ]
  },
  {
   "cell_type": "code",
   "execution_count": 5,
   "id": "65d8155e",
   "metadata": {},
   "outputs": [],
   "source": [
    "# Memilih kolom yang relevan untuk analisis dan pemodelan\n",
    "df_copy = df_copy[['job',                  # categorical\n",
    "                   'housing',              # categorical\n",
    "                   'loan',                 # categorical\n",
    "                   'contact',              # categorical\n",
    "                   'month',                # categorical\n",
    "                   'poutcome',              # categorical\n",
    "                   'age',                  # numerical (scaled)\n",
    "                   'balance',              # numerical (scaled)\n",
    "                   'campaign',             # numerical (scaled)\n",
    "                   'pdays',                # numerical (scaled)\n",
    "                   'deposit'               # target variable\n",
    "                  ]]"
   ]
  },
  {
   "cell_type": "markdown",
   "id": "f0ff4782",
   "metadata": {},
   "source": [
    "**Penjelasan:**\n",
    "* **Fitur Kategorikal**: Kolom-kolom seperti `job`, `housing`, `loan`, `contact`, dan `month` adalah **variabel kategorikal** yang menggambarkan informasi deskriptif tentang nasabah dan konteks interaksi dengan mereka.\n",
    "* **Fitur Numerik**: Kolom `campaign`, `pdays`, `balance`, dan `age` adalah **variabel numerik** yang menggambarkan jumlah kontak, waktu sejak kontak terakhir, saldo rekening, dan usia nasabah.\n",
    "* **Target**: Kolom `deposit` adalah **variabel target** yang ingin diprediksi, yaitu apakah nasabah akan melakukan deposit atau tidak (`yes/no`)."
   ]
  },
  {
   "cell_type": "markdown",
   "id": "f254000a",
   "metadata": {},
   "source": [
    "| **Kolom**    | **Deskripsi**                                                                               | **Tipe Data** | **Keterangan**          |\n",
    "| ------------ | ------------------------------------------------------------------------------------------- | ------------- | ----------------------- |\n",
    "| **job**      | Profesi nasabah                                                                             | Categorical   | Tidak ada nilai hilang. |\n",
    "| **housing**  | Status kepemilikan rumah nasabah (yes/no)                                                   | Categorical   | Tidak ada nilai hilang. |\n",
    "| **loan**     | Status pinjaman nasabah (yes/no)                                                            | Categorical   | Tidak ada nilai hilang. |\n",
    "| **contact**  | Saluran komunikasi yang digunakan untuk menghubungi nasabah (cellular, telephone, other)    | Categorical   | Tidak ada nilai hilang. |\n",
    "| **month**    | Bulan kontak terakhir dilakukan dengan nasabah                                              | Categorical   | Tidak ada nilai hilang. |\n",
    "| **poutcome** | Hasil kampanye sebelumnya (success, failure, other)                                         | Categorical   | Tidak ada nilai hilang. |\n",
    "| **age**      | Usia nasabah                                                                                | Numeric       | Tidak ada nilai hilang. |\n",
    "| **balance**  | Saldo rekening nasabah                                                                      | Numeric       | Tidak ada nilai hilang. |\n",
    "| **campaign** | Jumlah kontak yang dilakukan pada kampanye ini                                              | Numeric       | Tidak ada nilai hilang. |\n",
    "| **pdays**    | Jumlah hari sejak kontak terakhir dilakukan (nilai -1 berarti belum pernah dihubungi)       | Numeric       | Tidak ada nilai hilang. |\n",
    "| **deposit**  | Apakah nasabah melakukan deposit atau tidak (target variabel)                               | Numeric       | Tidak ada nilai hilang. |"
   ]
  },
  {
   "cell_type": "markdown",
   "id": "a92ab6bb",
   "metadata": {},
   "source": [
    "### 5. Displaying Descriptive Statistics\n",
    "Statistik deskriptif ditampilkan untuk memberikan gambaran mengenai nilai rata-rata, standar deviasi, dan rentang nilai untuk kolom numerik, serta distribusi frekuensi untuk kolom kategorikal."
   ]
  },
  {
   "cell_type": "code",
   "execution_count": 6,
   "id": "9d990439",
   "metadata": {},
   "outputs": [
    {
     "data": {
      "text/html": [
       "<div>\n",
       "<style scoped>\n",
       "    .dataframe tbody tr th:only-of-type {\n",
       "        vertical-align: middle;\n",
       "    }\n",
       "\n",
       "    .dataframe tbody tr th {\n",
       "        vertical-align: top;\n",
       "    }\n",
       "\n",
       "    .dataframe thead th {\n",
       "        text-align: right;\n",
       "    }\n",
       "</style>\n",
       "<table border=\"1\" class=\"dataframe\">\n",
       "  <thead>\n",
       "    <tr style=\"text-align: right;\">\n",
       "      <th></th>\n",
       "      <th>job</th>\n",
       "      <th>housing</th>\n",
       "      <th>loan</th>\n",
       "      <th>contact</th>\n",
       "      <th>month</th>\n",
       "      <th>poutcome</th>\n",
       "      <th>age</th>\n",
       "      <th>balance</th>\n",
       "      <th>campaign</th>\n",
       "      <th>pdays</th>\n",
       "      <th>deposit</th>\n",
       "    </tr>\n",
       "  </thead>\n",
       "  <tbody>\n",
       "    <tr>\n",
       "      <th>count</th>\n",
       "      <td>7813</td>\n",
       "      <td>7813</td>\n",
       "      <td>7813</td>\n",
       "      <td>7813</td>\n",
       "      <td>7813</td>\n",
       "      <td>7813</td>\n",
       "      <td>7813.000000</td>\n",
       "      <td>7813.000000</td>\n",
       "      <td>7813.000000</td>\n",
       "      <td>7813.000000</td>\n",
       "      <td>7813</td>\n",
       "    </tr>\n",
       "    <tr>\n",
       "      <th>unique</th>\n",
       "      <td>12</td>\n",
       "      <td>2</td>\n",
       "      <td>2</td>\n",
       "      <td>3</td>\n",
       "      <td>12</td>\n",
       "      <td>4</td>\n",
       "      <td>NaN</td>\n",
       "      <td>NaN</td>\n",
       "      <td>NaN</td>\n",
       "      <td>NaN</td>\n",
       "      <td>2</td>\n",
       "    </tr>\n",
       "    <tr>\n",
       "      <th>top</th>\n",
       "      <td>management</td>\n",
       "      <td>no</td>\n",
       "      <td>no</td>\n",
       "      <td>cellular</td>\n",
       "      <td>may</td>\n",
       "      <td>unknown</td>\n",
       "      <td>NaN</td>\n",
       "      <td>NaN</td>\n",
       "      <td>NaN</td>\n",
       "      <td>NaN</td>\n",
       "      <td>no</td>\n",
       "    </tr>\n",
       "    <tr>\n",
       "      <th>freq</th>\n",
       "      <td>1792</td>\n",
       "      <td>4140</td>\n",
       "      <td>6789</td>\n",
       "      <td>5628</td>\n",
       "      <td>1976</td>\n",
       "      <td>5819</td>\n",
       "      <td>NaN</td>\n",
       "      <td>NaN</td>\n",
       "      <td>NaN</td>\n",
       "      <td>NaN</td>\n",
       "      <td>4081</td>\n",
       "    </tr>\n",
       "    <tr>\n",
       "      <th>mean</th>\n",
       "      <td>NaN</td>\n",
       "      <td>NaN</td>\n",
       "      <td>NaN</td>\n",
       "      <td>NaN</td>\n",
       "      <td>NaN</td>\n",
       "      <td>NaN</td>\n",
       "      <td>41.257264</td>\n",
       "      <td>1512.448611</td>\n",
       "      <td>2.519775</td>\n",
       "      <td>51.408550</td>\n",
       "      <td>NaN</td>\n",
       "    </tr>\n",
       "    <tr>\n",
       "      <th>std</th>\n",
       "      <td>NaN</td>\n",
       "      <td>NaN</td>\n",
       "      <td>NaN</td>\n",
       "      <td>NaN</td>\n",
       "      <td>NaN</td>\n",
       "      <td>NaN</td>\n",
       "      <td>11.919710</td>\n",
       "      <td>3089.291831</td>\n",
       "      <td>2.727001</td>\n",
       "      <td>108.072739</td>\n",
       "      <td>NaN</td>\n",
       "    </tr>\n",
       "    <tr>\n",
       "      <th>min</th>\n",
       "      <td>NaN</td>\n",
       "      <td>NaN</td>\n",
       "      <td>NaN</td>\n",
       "      <td>NaN</td>\n",
       "      <td>NaN</td>\n",
       "      <td>NaN</td>\n",
       "      <td>18.000000</td>\n",
       "      <td>-6847.000000</td>\n",
       "      <td>1.000000</td>\n",
       "      <td>-1.000000</td>\n",
       "      <td>NaN</td>\n",
       "    </tr>\n",
       "    <tr>\n",
       "      <th>25%</th>\n",
       "      <td>NaN</td>\n",
       "      <td>NaN</td>\n",
       "      <td>NaN</td>\n",
       "      <td>NaN</td>\n",
       "      <td>NaN</td>\n",
       "      <td>NaN</td>\n",
       "      <td>32.000000</td>\n",
       "      <td>127.000000</td>\n",
       "      <td>1.000000</td>\n",
       "      <td>-1.000000</td>\n",
       "      <td>NaN</td>\n",
       "    </tr>\n",
       "    <tr>\n",
       "      <th>50%</th>\n",
       "      <td>NaN</td>\n",
       "      <td>NaN</td>\n",
       "      <td>NaN</td>\n",
       "      <td>NaN</td>\n",
       "      <td>NaN</td>\n",
       "      <td>NaN</td>\n",
       "      <td>39.000000</td>\n",
       "      <td>549.000000</td>\n",
       "      <td>2.000000</td>\n",
       "      <td>-1.000000</td>\n",
       "      <td>NaN</td>\n",
       "    </tr>\n",
       "    <tr>\n",
       "      <th>75%</th>\n",
       "      <td>NaN</td>\n",
       "      <td>NaN</td>\n",
       "      <td>NaN</td>\n",
       "      <td>NaN</td>\n",
       "      <td>NaN</td>\n",
       "      <td>NaN</td>\n",
       "      <td>49.000000</td>\n",
       "      <td>1684.000000</td>\n",
       "      <td>3.000000</td>\n",
       "      <td>40.000000</td>\n",
       "      <td>NaN</td>\n",
       "    </tr>\n",
       "    <tr>\n",
       "      <th>max</th>\n",
       "      <td>NaN</td>\n",
       "      <td>NaN</td>\n",
       "      <td>NaN</td>\n",
       "      <td>NaN</td>\n",
       "      <td>NaN</td>\n",
       "      <td>NaN</td>\n",
       "      <td>95.000000</td>\n",
       "      <td>66653.000000</td>\n",
       "      <td>63.000000</td>\n",
       "      <td>854.000000</td>\n",
       "      <td>NaN</td>\n",
       "    </tr>\n",
       "  </tbody>\n",
       "</table>\n",
       "</div>"
      ],
      "text/plain": [
       "               job housing  loan   contact month poutcome          age  \\\n",
       "count         7813    7813  7813      7813  7813     7813  7813.000000   \n",
       "unique          12       2     2         3    12        4          NaN   \n",
       "top     management      no    no  cellular   may  unknown          NaN   \n",
       "freq          1792    4140  6789      5628  1976     5819          NaN   \n",
       "mean           NaN     NaN   NaN       NaN   NaN      NaN    41.257264   \n",
       "std            NaN     NaN   NaN       NaN   NaN      NaN    11.919710   \n",
       "min            NaN     NaN   NaN       NaN   NaN      NaN    18.000000   \n",
       "25%            NaN     NaN   NaN       NaN   NaN      NaN    32.000000   \n",
       "50%            NaN     NaN   NaN       NaN   NaN      NaN    39.000000   \n",
       "75%            NaN     NaN   NaN       NaN   NaN      NaN    49.000000   \n",
       "max            NaN     NaN   NaN       NaN   NaN      NaN    95.000000   \n",
       "\n",
       "             balance     campaign        pdays deposit  \n",
       "count    7813.000000  7813.000000  7813.000000    7813  \n",
       "unique           NaN          NaN          NaN       2  \n",
       "top              NaN          NaN          NaN      no  \n",
       "freq             NaN          NaN          NaN    4081  \n",
       "mean     1512.448611     2.519775    51.408550     NaN  \n",
       "std      3089.291831     2.727001   108.072739     NaN  \n",
       "min     -6847.000000     1.000000    -1.000000     NaN  \n",
       "25%       127.000000     1.000000    -1.000000     NaN  \n",
       "50%       549.000000     2.000000    -1.000000     NaN  \n",
       "75%      1684.000000     3.000000    40.000000     NaN  \n",
       "max     66653.000000    63.000000   854.000000     NaN  "
      ]
     },
     "execution_count": 6,
     "metadata": {},
     "output_type": "execute_result"
    }
   ],
   "source": [
    "# Menampilkan statistik deskriptif untuk semua kolom\n",
    "df_copy.describe(include='all')"
   ]
  },
  {
   "cell_type": "markdown",
   "id": "7393e048",
   "metadata": {},
   "source": [
    "### 6. Checking for Duplicates\n",
    "Pemeriksaan duplikasi dilakukan untuk melihat apakah ada baris yang terduplikasi dalam dataset, yang bisa memengaruhi analisis atau model."
   ]
  },
  {
   "cell_type": "code",
   "execution_count": 7,
   "id": "eaaa3ce9",
   "metadata": {},
   "outputs": [
    {
     "name": "stdout",
     "output_type": "stream",
     "text": [
      "Jumlah duplikasi: 8\n"
     ]
    }
   ],
   "source": [
    "# Cek duplikasi di seluruh dataset\n",
    "duplicates = df_copy.duplicated()\n",
    "\n",
    "# Jumlah baris duplikat\n",
    "print(f'Jumlah duplikasi: {duplicates.sum()}')"
   ]
  },
  {
   "cell_type": "markdown",
   "id": "e8d0b2c5",
   "metadata": {},
   "source": [
    "Hasil pemeriksaan menunjukkan apakah baris yang terdeteksi sebagai duplikat memiliki perbedaan relevan, seperti pada kolom age, yang menunjukkan bahwa setiap baris mungkin mewakili nasabah yang berbeda."
   ]
  },
  {
   "cell_type": "code",
   "execution_count": 8,
   "id": "6e746780",
   "metadata": {},
   "outputs": [
    {
     "data": {
      "text/html": [
       "<div>\n",
       "<style scoped>\n",
       "    .dataframe tbody tr th:only-of-type {\n",
       "        vertical-align: middle;\n",
       "    }\n",
       "\n",
       "    .dataframe tbody tr th {\n",
       "        vertical-align: top;\n",
       "    }\n",
       "\n",
       "    .dataframe thead th {\n",
       "        text-align: right;\n",
       "    }\n",
       "</style>\n",
       "<table border=\"1\" class=\"dataframe\">\n",
       "  <thead>\n",
       "    <tr style=\"text-align: right;\">\n",
       "      <th></th>\n",
       "      <th>job</th>\n",
       "      <th>housing</th>\n",
       "      <th>loan</th>\n",
       "      <th>contact</th>\n",
       "      <th>month</th>\n",
       "      <th>poutcome</th>\n",
       "      <th>age</th>\n",
       "      <th>balance</th>\n",
       "      <th>campaign</th>\n",
       "      <th>pdays</th>\n",
       "      <th>deposit</th>\n",
       "    </tr>\n",
       "  </thead>\n",
       "  <tbody>\n",
       "    <tr>\n",
       "      <th>2944</th>\n",
       "      <td>blue-collar</td>\n",
       "      <td>yes</td>\n",
       "      <td>no</td>\n",
       "      <td>unknown</td>\n",
       "      <td>may</td>\n",
       "      <td>unknown</td>\n",
       "      <td>40</td>\n",
       "      <td>0</td>\n",
       "      <td>2</td>\n",
       "      <td>-1</td>\n",
       "      <td>no</td>\n",
       "    </tr>\n",
       "    <tr>\n",
       "      <th>4368</th>\n",
       "      <td>management</td>\n",
       "      <td>no</td>\n",
       "      <td>no</td>\n",
       "      <td>cellular</td>\n",
       "      <td>aug</td>\n",
       "      <td>unknown</td>\n",
       "      <td>60</td>\n",
       "      <td>0</td>\n",
       "      <td>3</td>\n",
       "      <td>-1</td>\n",
       "      <td>yes</td>\n",
       "    </tr>\n",
       "    <tr>\n",
       "      <th>4874</th>\n",
       "      <td>management</td>\n",
       "      <td>no</td>\n",
       "      <td>no</td>\n",
       "      <td>cellular</td>\n",
       "      <td>aug</td>\n",
       "      <td>unknown</td>\n",
       "      <td>41</td>\n",
       "      <td>0</td>\n",
       "      <td>2</td>\n",
       "      <td>-1</td>\n",
       "      <td>no</td>\n",
       "    </tr>\n",
       "    <tr>\n",
       "      <th>5326</th>\n",
       "      <td>blue-collar</td>\n",
       "      <td>yes</td>\n",
       "      <td>no</td>\n",
       "      <td>cellular</td>\n",
       "      <td>jul</td>\n",
       "      <td>unknown</td>\n",
       "      <td>44</td>\n",
       "      <td>0</td>\n",
       "      <td>1</td>\n",
       "      <td>-1</td>\n",
       "      <td>no</td>\n",
       "    </tr>\n",
       "    <tr>\n",
       "      <th>5609</th>\n",
       "      <td>technician</td>\n",
       "      <td>yes</td>\n",
       "      <td>no</td>\n",
       "      <td>unknown</td>\n",
       "      <td>may</td>\n",
       "      <td>unknown</td>\n",
       "      <td>39</td>\n",
       "      <td>0</td>\n",
       "      <td>1</td>\n",
       "      <td>-1</td>\n",
       "      <td>no</td>\n",
       "    </tr>\n",
       "    <tr>\n",
       "      <th>5681</th>\n",
       "      <td>technician</td>\n",
       "      <td>no</td>\n",
       "      <td>no</td>\n",
       "      <td>cellular</td>\n",
       "      <td>aug</td>\n",
       "      <td>unknown</td>\n",
       "      <td>38</td>\n",
       "      <td>0</td>\n",
       "      <td>2</td>\n",
       "      <td>-1</td>\n",
       "      <td>no</td>\n",
       "    </tr>\n",
       "    <tr>\n",
       "      <th>5905</th>\n",
       "      <td>management</td>\n",
       "      <td>no</td>\n",
       "      <td>no</td>\n",
       "      <td>cellular</td>\n",
       "      <td>aug</td>\n",
       "      <td>unknown</td>\n",
       "      <td>34</td>\n",
       "      <td>0</td>\n",
       "      <td>2</td>\n",
       "      <td>-1</td>\n",
       "      <td>no</td>\n",
       "    </tr>\n",
       "    <tr>\n",
       "      <th>7077</th>\n",
       "      <td>blue-collar</td>\n",
       "      <td>yes</td>\n",
       "      <td>no</td>\n",
       "      <td>unknown</td>\n",
       "      <td>may</td>\n",
       "      <td>unknown</td>\n",
       "      <td>30</td>\n",
       "      <td>239</td>\n",
       "      <td>1</td>\n",
       "      <td>-1</td>\n",
       "      <td>yes</td>\n",
       "    </tr>\n",
       "  </tbody>\n",
       "</table>\n",
       "</div>"
      ],
      "text/plain": [
       "              job housing loan   contact month poutcome  age  balance  \\\n",
       "2944  blue-collar     yes   no   unknown   may  unknown   40        0   \n",
       "4368   management      no   no  cellular   aug  unknown   60        0   \n",
       "4874   management      no   no  cellular   aug  unknown   41        0   \n",
       "5326  blue-collar     yes   no  cellular   jul  unknown   44        0   \n",
       "5609   technician     yes   no   unknown   may  unknown   39        0   \n",
       "5681   technician      no   no  cellular   aug  unknown   38        0   \n",
       "5905   management      no   no  cellular   aug  unknown   34        0   \n",
       "7077  blue-collar     yes   no   unknown   may  unknown   30      239   \n",
       "\n",
       "      campaign  pdays deposit  \n",
       "2944         2     -1      no  \n",
       "4368         3     -1     yes  \n",
       "4874         2     -1      no  \n",
       "5326         1     -1      no  \n",
       "5609         1     -1      no  \n",
       "5681         2     -1      no  \n",
       "5905         2     -1      no  \n",
       "7077         1     -1     yes  "
      ]
     },
     "execution_count": 8,
     "metadata": {},
     "output_type": "execute_result"
    }
   ],
   "source": [
    "# Lihat baris duplikat\n",
    "df_copy[duplicates]"
   ]
  },
  {
   "cell_type": "markdown",
   "id": "65577417",
   "metadata": {},
   "source": [
    "**Insight:**\n",
    "- Meskipun 8 baris ini terdeteksi sebagai duplikat, ternyata setiap baris memiliki nilai `age` yang berbeda pada `job` yang sama, yang menunjukkan bahwa setiap baris ini mewakili nasabah yang berbeda.\n",
    "- Tidak perlu menghapus duplikasi ini karena data yang terdeteksi sebagai duplikat merupakan entri yang valid untuk nasabah yang berbeda"
   ]
  },
  {
   "cell_type": "markdown",
   "id": "0b4f1aaf",
   "metadata": {},
   "source": [
    "### 7. Displaying Unique Values from Categorical Columns\n",
    "Pada tahap ini, dilakukan pemeriksaan terhadap nilai unik dari setiap kolom kategorikal. Langkah ini memberikan gambaran mengenai variasi kategori yang ada dalam setiap kolom dan membantu memahami distribusi data serta potensi encoding untuk model klasifikasi."
   ]
  },
  {
   "cell_type": "code",
   "execution_count": 9,
   "id": "f639a469",
   "metadata": {},
   "outputs": [
    {
     "name": "stdout",
     "output_type": "stream",
     "text": [
      "Unique values in 'job': ['admin.' 'self-employed' 'services' 'housemaid' 'technician' 'management'\n",
      " 'student' 'blue-collar' 'entrepreneur' 'retired' 'unemployed' 'unknown']\n",
      "Unique values in 'housing': ['no' 'yes']\n",
      "Unique values in 'loan': ['no' 'yes']\n",
      "Unique values in 'contact': ['cellular' 'telephone' 'unknown']\n",
      "Unique values in 'month': ['jun' 'apr' 'may' 'nov' 'jan' 'sep' 'feb' 'mar' 'aug' 'jul' 'oct' 'dec']\n",
      "Unique values in 'poutcome': ['unknown' 'other' 'failure' 'success']\n",
      "Unique values in 'deposit': ['yes' 'no']\n"
     ]
    }
   ],
   "source": [
    "# Unique values kolom kategori\n",
    "categorical_columns = df_copy.select_dtypes(include=['object']).columns\n",
    "unique_values = {col: df_copy[col].unique() for col in categorical_columns}\n",
    "\n",
    "for column, unique_vals in unique_values.items():\n",
    "    print(f\"Unique values in '{column}': {unique_vals}\")"
   ]
  },
  {
   "cell_type": "markdown",
   "id": "8ff3e48c",
   "metadata": {},
   "source": [
    "**Insight:**\n",
    "Mengubah atau menghapus nilai unknown bisa menyebabkan hilangnya informasi penting atau menghasilkan bias dalam model. Dengan membiarkan nilai ini, model dapat belajar untuk menghadapinya secara tepat, yang akan meningkatkan kemampuan model dalam menangani data tidak lengkap di dunia nyata tanpa mengurangi akurasi prediksi."
   ]
  },
  {
   "cell_type": "markdown",
   "id": "46aa693e",
   "metadata": {},
   "source": [
    "## EDA\n",
    "Pada tahap Exploratory Data Analysis (EDA), dilakukan eksplorasi dataset untuk memperoleh pemahaman awal tentang distribusi data, hubungan antar fitur, dan karakteristik dataset yang dapat memengaruhi proses modeling.\n",
    "\n",
    "Langkah pertama adalah memeriksa distribusi kolom deposit, yang merupakan target dalam prediksi. Distribusi antara nasabah yang berdeposito (yes) dan yang tidak berdeposito (no) dihitung dalam persentase."
   ]
  },
  {
   "cell_type": "code",
   "execution_count": 10,
   "id": "824dc260",
   "metadata": {},
   "outputs": [
    {
     "data": {
      "text/plain": [
       "deposit\n",
       "no     52.23\n",
       "yes    47.77\n",
       "Name: proportion, dtype: float64"
      ]
     },
     "execution_count": 10,
     "metadata": {},
     "output_type": "execute_result"
    }
   ],
   "source": [
    "# Cek kolom target\n",
    "perc = (df_copy['deposit'].value_counts(normalize=True) * 100).round(2)\n",
    "perc"
   ]
  },
  {
   "cell_type": "markdown",
   "id": "82eb8411",
   "metadata": {},
   "source": [
    "**Insight:**\n",
    "- Secara umum, proporsi tidak terlalu imbalanced, yang berarti bahwa model klasifikasi yang digunakan tidak akan terlalu kesulitan dalam membedakan kedua kelas."
   ]
  },
  {
   "cell_type": "markdown",
   "id": "c8457edd",
   "metadata": {},
   "source": [
    "### Univariate Analysis\n",
    "Pada tahap ini, dilakukan univariate analysis pada kolom-kolom numerik untuk melihat distribusi masing-masing fitur menggunakan histogram dan Kernel Density Estimation (KDE)."
   ]
  },
  {
   "cell_type": "code",
   "execution_count": 11,
   "id": "07a091b2",
   "metadata": {},
   "outputs": [
    {
     "data": {
      "image/png": "[encoded data removed]",
      "text/plain": [
       "<Figure size 2000x800 with 4 Axes>"
      ]
     },
     "metadata": {},
     "output_type": "display_data"
    }
   ],
   "source": [
    "# Kolom numerik\n",
    "num_cols = df_copy.describe().columns\n",
    "plt.figure(figsize=(20, 8))\n",
    "\n",
    "# Loop untuk setiap kolom numerik dan membuat subplot\n",
    "for i, col in enumerate(num_cols):\n",
    "    plt.subplot(2, 3, i+1)\n",
    "    sns.histplot(df_copy[col], kde=True)\n",
    "plt.tight_layout()\n",
    "plt.show()"
   ]
  },
  {
   "cell_type": "markdown",
   "id": "33bdcf32",
   "metadata": {},
   "source": [
    "**Insight:**\n",
    "- Skewness\n",
    "- Untuk data yang skewed, menggunakan Robust Scaler, yang lebih tahan terhadap outliers"
   ]
  },
  {
   "cell_type": "markdown",
   "id": "ba447529",
   "metadata": {},
   "source": [
    "### Bivariate Analysis terhadap Kolom Target\n",
    "Dilakukan juga bivariate analysis antara kolom target `deposit` dan kolom numerik lainnya dengan menggunakan bar plot untuk membandingkan distribusi median antara nasabah yang berdeposito dan yang tidak berdeposito."
   ]
  },
  {
   "cell_type": "code",
   "execution_count": 12,
   "id": "5be21add",
   "metadata": {},
   "outputs": [
    {
     "data": {
      "image/png": "[encoded data removed]",
      "text/plain": [
       "<Figure size 2000x800 with 4 Axes>"
      ]
     },
     "metadata": {},
     "output_type": "display_data"
    }
   ],
   "source": [
    "# Loop untuk setiap kolom numerik dan membuat subplot\n",
    "plt.figure(figsize=(20, 8))\n",
    "for i, col in enumerate(num_cols):\n",
    "    plt.subplot(2, 2, i+1)\n",
    "    sns.barplot(data=df_copy, x='deposit', y=col, estimator='median')\n",
    "\n",
    "plt.tight_layout()\n",
    "plt.show()"
   ]
  },
  {
   "cell_type": "markdown",
   "id": "c0bdecbd",
   "metadata": {},
   "source": [
    "### Univariate Analysis untuk Kolom Kategorikal\n",
    "Langkah berikutnya adalah memeriksa kolom kategorikal seperti job, housing, loan dan contact menggunakan count plot untuk melihat distribusi kategori berdasarkan status deposit (berdeposito atau tidak)."
   ]
  },
  {
   "cell_type": "code",
   "execution_count": 13,
   "id": "95ce9747",
   "metadata": {},
   "outputs": [
    {
     "data": {
      "image/png": "[encoded data removed]",
      "text/plain": [
       "<Figure size 2000x800 with 6 Axes>"
      ]
     },
     "metadata": {},
     "output_type": "display_data"
    }
   ],
   "source": [
    "# Kolom kategorikal yang ingin dianalisis\n",
    "cols_cat = ['job', 'housing', 'loan', 'contact', 'month', 'poutcome']\n",
    "plt.figure(figsize=(20, 8))\n",
    "\n",
    "# Loop untuk setiap kolom kategorikal dan membuat subplot\n",
    "for i, col in enumerate(cols_cat):\n",
    "    plt.subplot(3, 2, i + 1)\n",
    "    sns.countplot(data=df_copy, x=col, hue='deposit')\n",
    "\n",
    "plt.tight_layout()\n",
    "plt.show()"
   ]
  },
  {
   "cell_type": "markdown",
   "id": "02db9f6b",
   "metadata": {},
   "source": [
    "## Define X & y\n",
    "Pada tahap ini, variabel target `deposit` akan dipersiapkan untuk digunakan dalam pemodelan. Selain itu, fitur-fitur yang akan digunakan dalam model juga akan dipisahkan dari kolom target. Berikut adalah langkah-langkah yang dilakukan:"
   ]
  },
  {
   "cell_type": "markdown",
   "id": "abdb3095",
   "metadata": {},
   "source": [
    "### 1. Changing Target Column Values\n",
    "Kolom deposit yang berisi nilai kategorikal `yes/no` akan diubah menjadi format numerik, yaitu 1 untuk `yes` dan 0 untuk `no`. Ini dilakukan agar variabel target dapat digunakan dalam algoritma klasifikasi yang membutuhkan input numerik."
   ]
  },
  {
   "cell_type": "code",
   "execution_count": 14,
   "id": "5d5917bb",
   "metadata": {},
   "outputs": [],
   "source": [
    "# Ubah deposit ke 0 dan 1\n",
    "df_copy['deposit'] = df_copy['deposit'].map({'no': 0, 'yes': 1})"
   ]
  },
  {
   "cell_type": "markdown",
   "id": "0a3e7b94",
   "metadata": {},
   "source": [
    "### 2. Defining the Features\n",
    "Fitur yang digunakan untuk prediksi dipisahkan dari kolom target. Kolom-kolom selain `deposit` akan digunakan sebagai fitur dalam model.\n",
    "\n",
    "Kolom `deposit` yang sudah diubah menjadi numerik akan digunakan sebagai variabel target `y` untuk model klasifikasi."
   ]
  },
  {
   "cell_type": "code",
   "execution_count": 15,
   "id": "a31a51ab",
   "metadata": {},
   "outputs": [],
   "source": [
    "# Columns\n",
    "X = df_copy.drop(columns = ['deposit'])\n",
    "\n",
    "# Target\n",
    "y = df_copy['deposit']"
   ]
  },
  {
   "cell_type": "markdown",
   "id": "1a84ffe7",
   "metadata": {},
   "source": [
    "## Train Test Split\n",
    "Pada tahap ini, dataset akan dibagi menjadi dua bagian: data pelatihan (training set) dan data pengujian (test set). Pembagian data ini penting agar model dapat dilatih menggunakan data pelatihan dan dievaluasi menggunakan data yang belum pernah dilihat sebelumnya (data pengujian). Berikut adalah langkah-langkahnya:"
   ]
  },
  {
   "cell_type": "markdown",
   "id": "893de446",
   "metadata": {},
   "source": [
    "### 1. Splitting the Data\n",
    "Data akan dibagi dengan proporsi 80% untuk data pelatihan dan 20% untuk data pengujian. Pembagian ini memastikan bahwa model dapat dilatih dengan data yang cukup dan diuji dengan data yang representatif."
   ]
  },
  {
   "cell_type": "code",
   "execution_count": 16,
   "id": "0afc12d5",
   "metadata": {},
   "outputs": [],
   "source": [
    "# Split 80% train, 20% test\n",
    "X_train, X_test, y_train, y_test = train_test_split(\n",
    "                                    X,\n",
    "                                    y,\n",
    "                                    test_size = 0.2,\n",
    "                                    random_state = 42,\n",
    "                                    )"
   ]
  },
  {
   "cell_type": "code",
   "execution_count": 17,
   "id": "7212de20",
   "metadata": {},
   "outputs": [],
   "source": [
    "# Menentukan kolom mana saja yang masuk ke kategori dan numerik\n",
    "cat_cols = ['job', 'housing', 'loan', 'contact', 'month', 'poutcome']\n",
    "num_cols = ['age', 'balance', 'campaign', 'pdays']"
   ]
  },
  {
   "cell_type": "markdown",
   "id": "1e678e73",
   "metadata": {},
   "source": [
    "### 2. Handling Numerical and Categorical Columns\n",
    "Setelah pembagian data, tahapan selanjutnya adalah transformasi fitur baik untuk kolom numerik maupun kategorikal. Kolom numerik akan diproses menggunakan RobustScaler, yang lebih tahan terhadap outliers, sementara kolom kategorikal akan diubah menjadi format yang sesuai menggunakan OneHotEncoder karena tidak memiliki urutan atau hierarki antar kategori."
   ]
  },
  {
   "cell_type": "code",
   "execution_count": 18,
   "id": "056f03c2",
   "metadata": {},
   "outputs": [],
   "source": [
    "# Pipeline untuk kolom numerik\n",
    "scale = Pipeline(steps = [\n",
    "    ('scaler', RobustScaler())  # Scaling menggunakan RobustScaler\n",
    "])\n",
    "\n",
    "# Pipeline untuk kolom kategorikal\n",
    "cat = Pipeline(steps = [\n",
    "    ('ohe', OneHotEncoder(drop = 'first'))  # OneHotEncoding, menghapus kategori pertama untuk menghindari dummy variable trap\n",
    "])\n",
    "\n",
    "# Column Transformer\n",
    "ct = ColumnTransformer(transformers = [\n",
    "    ('cat', cat, cat_cols),\n",
    "    ('scale', scale, num_cols)\n",
    "], remainder='passthrough')"
   ]
  },
  {
   "cell_type": "markdown",
   "id": "0a576e76",
   "metadata": {},
   "source": [
    "## Modeling"
   ]
  },
  {
   "cell_type": "markdown",
   "id": "d99d8e24",
   "metadata": {},
   "source": [
    "### 1. Modeling with Basic Schema\n",
    "Pada tahap ini, berbagai model klasifikasi diuji untuk memprediksi apakah nasabah akan melakukan deposito atau tidak, berdasarkan fitur yang telah diproses sebelumnya. Fokus utama adalah meminimalkan false negatives (FN), karena biaya peluang yang terkait dengan nasabah yang tidak terhubung meskipun berpotensi berdeposito jauh lebih tinggi daripada biaya telemarketing kepada nasabah yang tidak berpotensi (false positives)."
   ]
  },
  {
   "cell_type": "code",
   "execution_count": null,
   "id": "7a6b0546",
   "metadata": {},
   "outputs": [],
   "source": [
    "from sklearn.model_selection import cross_val_score, StratifiedKFold\n",
    "from sklearn.metrics import fbeta_score, make_scorer\n",
    "from sklearn.pipeline import Pipeline\n",
    "\n",
    "from sklearn.ensemble import RandomForestClassifier, GradientBoostingClassifier\n",
    "from xgboost import XGBClassifier\n",
    "from sklearn.neighbors import KNeighborsClassifier\n",
    "from sklearn.tree import DecisionTreeClassifier\n",
    "\n",
    "skf = StratifiedKFold(n_splits=5, shuffle=True, random_state=42)"
   ]
  },
  {
   "cell_type": "markdown",
   "id": "b8a7f351",
   "metadata": {},
   "source": [
    "### 2. Model Definitions\n",
    "- **Random Forest** → Kuat menangani data non‑linier & interaksi fitur, akurat, robust terhadap noise, efektif meminimalkan FN.  \n",
    "- **XGBoost** → Boosting bertahap, cepat, efisien, mampu meningkatkan recall dengan mengurangi kesalahan model sebelumnya.  \n",
    "- **Gradient Boosting** → Iteratif, fokus mengurangi FN, bisa diatur untuk hindari overfitting.  \n",
    "- **KNN** → Sederhana, intuitif, jadi pembanding untuk model kompleks.  \n",
    "- **Decision Tree** → Mudah diinterpretasi, cepat, baseline untuk memahami pengaruh fitur.  "
   ]
  },
  {
   "cell_type": "code",
   "execution_count": null,
   "id": "78773cac",
   "metadata": {},
   "outputs": [],
   "source": [
    "# Defisini Model\n",
    "models = {'RandomForest': RandomForestClassifier(random_state = 42),\n",
    "          'XGBoost': XGBClassifier(random_state = 42),\n",
    "          'GradienBoost': GradientBoostingClassifier(random_state = 42),\n",
    "          'KNN': KNeighborsClassifier(),\n",
    "          'Tree': DecisionTreeClassifier(random_state = 42)}"
   ]
  },
  {
   "cell_type": "markdown",
   "id": "c5eec201",
   "metadata": {},
   "source": [
    "### 3. Cross-Validation & Evaluation Metrics\n",
    "\n",
    "Model dievaluasi menggunakan metrik:  \n",
    "- **Recall** – Metrik utama untuk mengukur kemampuan model mendeteksi nasabah berpotensi berdeposito, karena *false negatives* (FN) memiliki biaya peluang tinggi.  \n",
    "- **F2-Score** – Menekankan recall dengan penalti lebih besar pada FN dibanding *false positives*.  \n",
    "- **ROC-AUC** – Mengukur kemampuan model membedakan kelas `yes` dan `no`.  \n",
    "\n",
    "Evaluasi dilakukan dengan **Stratified K-Fold Cross-Validation**.  \n",
    "Metode ini memastikan distribusi kelas `yes` dan `no` (53:47, relatif seimbang) tetap konsisten di setiap fold, sehingga hasil evaluasi lebih representatif dan stabil.  \n",
    "\n",
    "**Alasan pemilihan Stratified K-Fold:**  \n",
    "- Menjaga proporsi kelas di setiap fold, sehingga evaluasi lebih akurat dan tidak bias.  \n",
    "- Lebih stabil dibanding K-Fold biasa, terutama untuk metrik seperti recall.  \n",
    "- Menghindari risiko distribusi kelas yang timpang di fold tertentu, meskipun dataset relatif seimbang.  \n",
    "\n",
    "Hasil dari setiap fold diurutkan berdasarkan **recall** sebagai prioritas utama. Model dengan recall tertinggi dipilih untuk mendeteksi nasabah yang berpotensi berdeposito.  "
   ]
  },
  {
   "cell_type": "code",
   "execution_count": 21,
   "id": "cd355697",
   "metadata": {},
   "outputs": [
    {
     "data": {
      "text/html": [
       "<div>\n",
       "<style scoped>\n",
       "    .dataframe tbody tr th:only-of-type {\n",
       "        vertical-align: middle;\n",
       "    }\n",
       "\n",
       "    .dataframe tbody tr th {\n",
       "        vertical-align: top;\n",
       "    }\n",
       "\n",
       "    .dataframe thead th {\n",
       "        text-align: right;\n",
       "    }\n",
       "</style>\n",
       "<table border=\"1\" class=\"dataframe\">\n",
       "  <thead>\n",
       "    <tr style=\"text-align: right;\">\n",
       "      <th></th>\n",
       "      <th>Model</th>\n",
       "      <th>Recall</th>\n",
       "      <th>F2-Score</th>\n",
       "      <th>ROC-AUC</th>\n",
       "    </tr>\n",
       "  </thead>\n",
       "  <tbody>\n",
       "    <tr>\n",
       "      <th>0</th>\n",
       "      <td>RandomForest</td>\n",
       "      <td>0.642637</td>\n",
       "      <td>0.653835</td>\n",
       "      <td>0.754018</td>\n",
       "    </tr>\n",
       "    <tr>\n",
       "      <th>2</th>\n",
       "      <td>XGBoost</td>\n",
       "      <td>0.634264</td>\n",
       "      <td>0.647917</td>\n",
       "      <td>0.752568</td>\n",
       "    </tr>\n",
       "    <tr>\n",
       "      <th>1</th>\n",
       "      <td>GradienBoost</td>\n",
       "      <td>0.609119</td>\n",
       "      <td>0.632724</td>\n",
       "      <td>0.774602</td>\n",
       "    </tr>\n",
       "    <tr>\n",
       "      <th>4</th>\n",
       "      <td>Tree</td>\n",
       "      <td>0.608117</td>\n",
       "      <td>0.607950</td>\n",
       "      <td>0.624582</td>\n",
       "    </tr>\n",
       "    <tr>\n",
       "      <th>3</th>\n",
       "      <td>KNN</td>\n",
       "      <td>0.606093</td>\n",
       "      <td>0.617895</td>\n",
       "      <td>0.710078</td>\n",
       "    </tr>\n",
       "  </tbody>\n",
       "</table>\n",
       "</div>"
      ],
      "text/plain": [
       "          Model    Recall  F2-Score   ROC-AUC\n",
       "0  RandomForest  0.642637  0.653835  0.754018\n",
       "2       XGBoost  0.634264  0.647917  0.752568\n",
       "1  GradienBoost  0.609119  0.632724  0.774602\n",
       "4          Tree  0.608117  0.607950  0.624582\n",
       "3           KNN  0.606093  0.617895  0.710078"
      ]
     },
     "execution_count": 21,
     "metadata": {},
     "output_type": "execute_result"
    }
   ],
   "source": [
    "# Placeholder untuk hasil\n",
    "results = []\n",
    "\n",
    "# Loop untuk setiap model\n",
    "for name, model in models.items():\n",
    "    # Membuat pipeline dengan preprocessing dan model\n",
    "    pipe = Pipeline([\n",
    "        ('transformer', ct), # ColumnTransformer untuk preprocessing\n",
    "        ('model', model)]) # Model klasifikasi\n",
    "    \n",
    "    # F2-Score dengan make_scorer\n",
    "    F2 = make_scorer(fbeta_score, beta=2)\n",
    "\n",
    "    # Cross-validation untuk Accuracy, Recall, Precision, F1, dan ROC-AUC\n",
    "    rec = cross_val_score(pipe, X_train, y_train, cv = skf, scoring = 'recall')\n",
    "    f2 = cross_val_score(pipe, X_train, y_train, cv = skf, scoring = F2)\n",
    "    roc = cross_val_score(pipe, X_train, y_train, cv = skf, scoring = 'roc_auc')\n",
    "    \n",
    "    # Menyimpan hasil\n",
    "    results.append({'Model': name,\n",
    "                   'Recall': rec.mean(),\n",
    "                   'F2-Score': f2.mean(),\n",
    "                   'ROC-AUC': roc.mean()\n",
    "                   })\n",
    "\n",
    "# Menampilkan hasil\n",
    "df_result = pd.DataFrame(results).sort_values('Recall', ascending = False)\n",
    "df_result"
   ]
  },
  {
   "cell_type": "markdown",
   "id": "4088393c",
   "metadata": {},
   "source": [
    "**Insight:**\n",
    "- RandomForest menghasilkan Recall tertinggi (0.6426)\n",
    "- XGBoost sedikit lebih rendah dalam hal recall (0.6342)\n",
    "- GradientBoost memiliki recall yang lebih rendah (0.6091)\n",
    "- Decision Tree memiliki Recall yang sedikit lebih rendah (0.6081)\n",
    "- KNN menghasilkan Recall yang hampir sama dengan Decision Tree (0.6061)"
   ]
  },
  {
   "cell_type": "markdown",
   "id": "72d07d77",
   "metadata": {},
   "source": [
    "### 4. Modeling with SMOTE\n",
    "Meskipun dataset ini **seimbang** dengan rasio 57:43, hasil model tanpa SMOTE menunjukkan **recall yang rendah**, menandakan bahwa kelas minoritas masih kurang terwakili. Oleh karena itu, **SMOTE** diterapkan untuk menambah **keberagaman data** kelas minoritas dengan menghasilkan contoh sintetis, yang membantu model lebih mengenali pola dalam kelas tersebut. Penggunaan SMOTE terbukti meningkatkan **recall**, terutama pada model seperti **Random Forest**, yang sebelumnya kurang efektif. Meskipun terjadi sedikit peningkatan false positives, penurunan false negatives yang signifikan menunjukkan bahwa SMOTE membuat model lebih sensitif dalam mengidentifikasi nasabah potensial. Dengan demikian, meskipun data seimbang, penggunaan SMOTE memberikan **peningkatan recall yang substansial** tanpa mengorbankan metrik lain seperti ROC-AUC."
   ]
  },
  {
   "cell_type": "code",
   "execution_count": 22,
   "id": "c61f42de",
   "metadata": {},
   "outputs": [
    {
     "data": {
      "text/html": [
       "<div>\n",
       "<style scoped>\n",
       "    .dataframe tbody tr th:only-of-type {\n",
       "        vertical-align: middle;\n",
       "    }\n",
       "\n",
       "    .dataframe tbody tr th {\n",
       "        vertical-align: top;\n",
       "    }\n",
       "\n",
       "    .dataframe thead th {\n",
       "        text-align: right;\n",
       "    }\n",
       "</style>\n",
       "<table border=\"1\" class=\"dataframe\">\n",
       "  <thead>\n",
       "    <tr style=\"text-align: right;\">\n",
       "      <th></th>\n",
       "      <th>Model</th>\n",
       "      <th>Recall</th>\n",
       "      <th>F2</th>\n",
       "      <th>ROC-AUC</th>\n",
       "    </tr>\n",
       "  </thead>\n",
       "  <tbody>\n",
       "    <tr>\n",
       "      <th>0</th>\n",
       "      <td>RandomForest</td>\n",
       "      <td>0.651019</td>\n",
       "      <td>0.660706</td>\n",
       "      <td>0.752938</td>\n",
       "    </tr>\n",
       "    <tr>\n",
       "      <th>1</th>\n",
       "      <td>GradienBoost</td>\n",
       "      <td>0.640624</td>\n",
       "      <td>0.657113</td>\n",
       "      <td>0.774244</td>\n",
       "    </tr>\n",
       "    <tr>\n",
       "      <th>2</th>\n",
       "      <td>XGBoost</td>\n",
       "      <td>0.638618</td>\n",
       "      <td>0.651628</td>\n",
       "      <td>0.752031</td>\n",
       "    </tr>\n",
       "    <tr>\n",
       "      <th>3</th>\n",
       "      <td>KNN</td>\n",
       "      <td>0.632912</td>\n",
       "      <td>0.637415</td>\n",
       "      <td>0.707299</td>\n",
       "    </tr>\n",
       "    <tr>\n",
       "      <th>4</th>\n",
       "      <td>Tree</td>\n",
       "      <td>0.619843</td>\n",
       "      <td>0.614659</td>\n",
       "      <td>0.617431</td>\n",
       "    </tr>\n",
       "  </tbody>\n",
       "</table>\n",
       "</div>"
      ],
      "text/plain": [
       "          Model    Recall        F2   ROC-AUC\n",
       "0  RandomForest  0.651019  0.660706  0.752938\n",
       "1  GradienBoost  0.640624  0.657113  0.774244\n",
       "2       XGBoost  0.638618  0.651628  0.752031\n",
       "3           KNN  0.632912  0.637415  0.707299\n",
       "4          Tree  0.619843  0.614659  0.617431"
      ]
     },
     "execution_count": 22,
     "metadata": {},
     "output_type": "execute_result"
    }
   ],
   "source": [
    "from imblearn.over_sampling import SMOTE\n",
    "from imblearn.pipeline import Pipeline as ImbPipeline\n",
    "\n",
    "results = []\n",
    "for name, model in models.items():\n",
    "    pipe = ImbPipeline([\n",
    "        ('Preprocessing', ct),\n",
    "        ('smote', SMOTE(random_state = 42)),\n",
    "        ('model', model)\n",
    "    ])\n",
    "\n",
    "    # Cross-validation untuk Accuracy, Recall, Precision, F1, dan ROC-AUC\n",
    "    rec = cross_val_score(pipe, X_train, y_train, cv = skf, scoring = 'recall')\n",
    "    f2 = cross_val_score(pipe, X_train, y_train, cv = skf, scoring = F2)\n",
    "    roc = cross_val_score(pipe, X_train, y_train, cv = skf, scoring = 'roc_auc')\n",
    "\n",
    "    # Menyimpan hasil\n",
    "    results.append({\n",
    "        'Model': name,\n",
    "        'Recall': rec.mean(),\n",
    "        'F2': f2.mean(),\n",
    "        'ROC-AUC': roc.mean()\n",
    "    })\n",
    "\n",
    "# Menampilkan hasil\n",
    "df_result = pd.DataFrame(results).sort_values('Recall', ascending = False)\n",
    "df_result"
   ]
  },
  {
   "cell_type": "markdown",
   "id": "14fe2585",
   "metadata": {},
   "source": [
    "**Insight:**\n",
    "- RandomForest menghasilkan Recall tertinggi (0.6510), diikuti oleh GradientBoost dengan recall (0.6406)\n",
    "- XGBoost sedikit lebih rendah dengan recall (0.6386)\n",
    "- KNN dan Decision Tree memiliki recall lebih rendah dibandingkan model lainnya, dengan nilai (0.6329) dan (0.6198)\n",
    "\n",
    "Meskipun penerapan SMOTE memberikan peningkatan sedikit pada recall, hasilnya masih tergolong relatif rendah. Ini menunjukkan bahwa meskipun SMOTE membantu menambah keberagaman data, tantangan utama dalam meningkatkan recall masih belum sepenuhnya teratasi, dan model-model yang digunakan belum sepenuhnya optimal dalam mendeteksi nasabah yang berpotensi berdeposito."
   ]
  },
  {
   "cell_type": "markdown",
   "id": "855ca552",
   "metadata": {},
   "source": [
    "### 5. Modeling with Best Model\n",
    "Pada tahap ini, model terbaik yang terpilih, yaitu Random Forest diterapkan pada data uji untuk mendapatkan prediksi dan mengevaluasi performa model menggunakan beberapa metrik, termasuk recall, ROC-AUC, dan F2-Score."
   ]
  },
  {
   "cell_type": "code",
   "execution_count": 23,
   "id": "635da0ae",
   "metadata": {},
   "outputs": [],
   "source": [
    "from sklearn.metrics import roc_auc_score, classification_report, recall_score"
   ]
  },
  {
   "cell_type": "code",
   "execution_count": 24,
   "id": "f0a63c67",
   "metadata": {},
   "outputs": [
    {
     "name": "stdout",
     "output_type": "stream",
     "text": [
      "              precision    recall  f1-score   support\n",
      "\n",
      "           0       0.71      0.78      0.74       814\n",
      "           1       0.73      0.66      0.69       749\n",
      "\n",
      "    accuracy                           0.72      1563\n",
      "   macro avg       0.72      0.72      0.72      1563\n",
      "weighted avg       0.72      0.72      0.72      1563\n",
      "\n"
     ]
    }
   ],
   "source": [
    "baseline_pipe = Pipeline([\n",
    "        ('Preprocessing', ct),\n",
    "        ('model', RandomForestClassifier(random_state = 42))\n",
    "    ])\n",
    "\n",
    "# Fit dan evaluasi di test set\n",
    "baseline_pipe.fit(X_train, y_train)\n",
    "y_pred = baseline_pipe.predict(X_test)\n",
    "y_pred_proba = baseline_pipe.predict_proba(X_test)[:,1]\n",
    "\n",
    "recall_baseline = recall_score(y_test, y_pred)\n",
    "roc_baseline = roc_auc_score(y_test, y_pred_proba)\n",
    "f2_baseline = fbeta_score(y_test, y_pred, beta = 2)\n",
    "\n",
    "print(classification_report(y_test, y_pred))"
   ]
  },
  {
   "cell_type": "markdown",
   "id": "bde86039",
   "metadata": {},
   "source": [
    "**Insight:**\n",
    "1. **Recall pada Kelas `0` vs Kelas `1`**:\n",
    "   - Recall untuk kelas `0` (nasabah yang **tidak berdeposito**) adalah **0.78**, yang menunjukkan bahwa model sangat efektif dalam mengidentifikasi nasabah yang tidak berdeposito. Ini berarti model dapat dengan baik menghindari false positives untuk nasabah yang tidak berpotensi berdeposito.\n",
    "   - Namun, recall untuk kelas `1` (nasabah yang **berdeposito**) lebih rendah di **0.66**. Ini menunjukkan bahwa model masih kesulitan dalam mendeteksi nasabah yang sebenarnya akan berdeposito. Meskipun false positives masih bisa ditoleransi dalam konteks bisnis ini, false negatives (FN) menjadi masalah utama yang perlu diatasi, karena kehilangan nasabah potensial dapat berdampak pada pendapatan.\n",
    "\n",
    "2. **Precision vs Recall Trade-off**:\n",
    "   - Precision untuk kelas `1` adalah **0.73**, lebih tinggi daripada recall-nya (**0.66**). Ini menunjukkan bahwa meskipun model cukup akurat dalam memprediksi nasabah yang akan berdeposito, masih ada beberapa false positives, yaitu nasabah yang diprediksi akan berdeposito tetapi tidak. Meski begitu, precision yang relatif tinggi mengindikasikan bahwa ketika model mengatakan nasabah akan berdeposito, kemungkinan besar itu benar.\n",
    "   - Precision untuk kelas `0` adalah **0.71**, lebih rendah dibandingkan recall-nya. Hal ini menunjukkan bahwa model lebih fokus pada mengidentifikasi nasabah yang tidak berdeposito, namun sedikit lebih cenderung memprediksi beberapa nasabah yang sebenarnya akan berdeposito sebagai tidak berdeposito (false negatives).\n",
    "\n",
    "3. **F1-Score**:\n",
    "   - **F1-Score** untuk kelas `0` adalah **0.74**, sedangkan untuk kelas `1` adalah **0.69**. Hal ini menunjukkan bahwa model lebih baik dalam memprediksi kelas `0` dengan keseimbangan antara precision dan recall yang lebih tinggi. Sebaliknya, untuk kelas `1`, meskipun recall lebih rendah, precision relatif lebih baik, tetapi tidak cukup untuk menghasilkan F1-score yang setinggi kelas `0`.\n",
    "\n",
    "4. **Akurasi dan Rata-Rata**:\n",
    "   - **Akurasi** model secara keseluruhan adalah **0.72**, yang mengindikasikan bahwa model ini dapat memberikan prediksi yang benar pada sekitar 72% data. Meskipun ini adalah angka yang cukup baik, masih ada ruang untuk perbaikan, terutama dalam hal recall untuk kelas 1, yang akan berdampak pada kemampuan model untuk mendeteksi lebih banyak nasabah berpotensi berdeposito.\n",
    "   - **Rata-rata Makro dan Rata-rata Terbobot** menunjukkan hasil yang seimbang di antara kedua kelas, dengan nilai **0.72** untuk precision, recall, dan f1-score secara keseluruhan. ni menunjukkan bahwa meskipun ada ketidakseimbangan kinerja antara kelas 0 dan 1, model secara keseluruhan tidak terlalu condong ke salah satu kelas."
   ]
  },
  {
   "cell_type": "markdown",
   "id": "15a5b929",
   "metadata": {},
   "source": [
    "### 6. Hypertuning Parameter\n",
    "Pada tahap ini, dilakukan Hyperparameter Tuning untuk Random Forest menggunakan RandomizedSearchCV untuk mencari kombinasi parameter yang optimal, dengan harapan dapat meningkatkan performa model, terutama dalam mendeteksi nasabah yang berpotensi berdeposito. Proses tuning dilakukan untuk mendapatkan pengaturan parameter yang lebih tepat agar dapat memperbaiki kemampuan model dalam memprediksi kelas `1` (nasabah yang berdeposito)."
   ]
  },
  {
   "cell_type": "code",
   "execution_count": 25,
   "id": "1da8e0fa",
   "metadata": {},
   "outputs": [
    {
     "name": "stdout",
     "output_type": "stream",
     "text": [
      "Fitting 5 folds for each of 50 candidates, totalling 250 fits\n",
      "Best parameters found:  {'model__n_estimators': 1000, 'model__min_samples_split': 5, 'model__min_samples_leaf': 1, 'model__max_features': 'log2', 'model__max_depth': None, 'model__bootstrap': False}\n",
      "Best cross-validation score: 0.65\n"
     ]
    }
   ],
   "source": [
    "from sklearn.model_selection import RandomizedSearchCV\n",
    "\n",
    "# Inisialisasi RandomForestClassifier\n",
    "rf_model = RandomForestClassifier(random_state = 42)\n",
    "\n",
    "# Membuat pipeline dengan preprocessing dan model\n",
    "pipe = Pipeline([\n",
    "    ('Preprocessing', ct),  # Pastikan 'ct' adalah ColumnTransformer atau preprocessing steps lainnya\n",
    "    ('model', rf_model)\n",
    "])\n",
    "\n",
    "# Membuat parameter distribusi untuk RandomizedSearchCV\n",
    "param_dist = {\n",
    "    'model__n_estimators': [100, 200, 500, 1000],  # Jumlah pohon keputusan\n",
    "    'model__max_depth': [3, 5, 7, 10, None],  # Kedalaman maksimum pohon\n",
    "    'model__min_samples_split': [2, 5, 10],  # Minimal sampel untuk membagi node\n",
    "    'model__min_samples_leaf': [1, 2, 4],  # Minimal sampel di tiap daun\n",
    "    'model__max_features': ['auto', 'sqrt', 'log2'],  # Fitur maksimum yang dipilih di tiap split\n",
    "    'model__bootstrap': [True, False]  # Apakah bootstrap sampling digunakan\n",
    "}\n",
    "\n",
    "# Hyperparameter tuning menggunakan RandomizedSearchCV\n",
    "random_search = RandomizedSearchCV(estimator = pipe, param_distributions = param_dist, \n",
    "                                   n_iter = 50, scoring = 'recall', cv = 5, n_jobs = -1, verbose = 2, random_state = 42)\n",
    "\n",
    "# Fit model dengan training data\n",
    "random_search.fit(X_train, y_train)\n",
    "\n",
    "# Menampilkan hasil terbaik dari random search\n",
    "print('Best parameters found: ', random_search.best_params_)\n",
    "print('Best cross-validation score: {:.2f}'.format(random_search.best_score_))"
   ]
  },
  {
   "cell_type": "markdown",
   "id": "028f31aa",
   "metadata": {},
   "source": [
    "**Score Cross-Validation:**\n",
    "- Best cross-validation score (0.65) menunjukkan bahwa meskipun parameter terbaik telah ditemukan, performa model masih terbatas. Meskipun ada peningkatan dari model sebelumnya, nilai recall yang relatif rendah menunjukkan bahwa model kesulitan dalam mendeteksi nasabah yang berpotensi berdeposito. Angka ini mengindikasikan bahwa meskipun telah dilakukan tuning, model belum sepenuhnya mampu mengatasi masalah false negatives yang menjadi perhatian utama."
   ]
  },
  {
   "cell_type": "code",
   "execution_count": 26,
   "id": "aa45fea3",
   "metadata": {},
   "outputs": [
    {
     "name": "stdout",
     "output_type": "stream",
     "text": [
      "              precision    recall  f1-score   support\n",
      "\n",
      "           0       0.71      0.76      0.74       814\n",
      "           1       0.72      0.67      0.69       749\n",
      "\n",
      "    accuracy                           0.72      1563\n",
      "   macro avg       0.72      0.72      0.72      1563\n",
      "weighted avg       0.72      0.72      0.72      1563\n",
      "\n"
     ]
    }
   ],
   "source": [
    "# Evaluasi di test set\n",
    "y_pred_tuned = random_search.predict(X_test)\n",
    "y_pred_proba_tuned = random_search.predict_proba(X_test)[:,1]\n",
    "\n",
    "recall_tuned = recall_score(y_test, y_pred_tuned)\n",
    "roc_tuned = roc_auc_score(y_test, y_pred_proba_tuned)\n",
    "f2_tuned = fbeta_score(y_test, y_pred_tuned, beta = 2)\n",
    "\n",
    "print(classification_report(y_test, y_pred_tuned))"
   ]
  },
  {
   "cell_type": "markdown",
   "id": "94d512cc",
   "metadata": {},
   "source": [
    "**Hasil Evaluasi Model yang Ditingkatkan:**\n",
    "- Model menunjukkan beberapa peningkatan, namun recall untuk kelas `1` (nasabah yang berdeposito) masih tetap rendah. "
   ]
  },
  {
   "cell_type": "code",
   "execution_count": 27,
   "id": "0ef73b5f",
   "metadata": {},
   "outputs": [
    {
     "data": {
      "text/html": [
       "<div>\n",
       "<style scoped>\n",
       "    .dataframe tbody tr th:only-of-type {\n",
       "        vertical-align: middle;\n",
       "    }\n",
       "\n",
       "    .dataframe tbody tr th {\n",
       "        vertical-align: top;\n",
       "    }\n",
       "\n",
       "    .dataframe thead th {\n",
       "        text-align: right;\n",
       "    }\n",
       "</style>\n",
       "<table border=\"1\" class=\"dataframe\">\n",
       "  <thead>\n",
       "    <tr style=\"text-align: right;\">\n",
       "      <th></th>\n",
       "      <th>Model</th>\n",
       "      <th>Recall</th>\n",
       "      <th>ROC-AUC</th>\n",
       "      <th>F2</th>\n",
       "    </tr>\n",
       "  </thead>\n",
       "  <tbody>\n",
       "    <tr>\n",
       "      <th>0</th>\n",
       "      <td>Baseline Model</td>\n",
       "      <td>0.656876</td>\n",
       "      <td>0.777493</td>\n",
       "      <td>0.670848</td>\n",
       "    </tr>\n",
       "    <tr>\n",
       "      <th>1</th>\n",
       "      <td>Tuned Model</td>\n",
       "      <td>0.668892</td>\n",
       "      <td>0.776498</td>\n",
       "      <td>0.679046</td>\n",
       "    </tr>\n",
       "  </tbody>\n",
       "</table>\n",
       "</div>"
      ],
      "text/plain": [
       "            Model    Recall   ROC-AUC        F2\n",
       "0  Baseline Model  0.656876  0.777493  0.670848\n",
       "1     Tuned Model  0.668892  0.776498  0.679046"
      ]
     },
     "execution_count": 27,
     "metadata": {},
     "output_type": "execute_result"
    }
   ],
   "source": [
    "results_df = pd.DataFrame({\n",
    "    'Model': ['Baseline Model', 'Tuned Model'],\n",
    "    'Recall': [recall_baseline, recall_tuned],\n",
    "    'ROC-AUC': [roc_baseline, roc_tuned],\n",
    "    'F2': [f2_baseline, f2_tuned]\n",
    "})\n",
    "results_df"
   ]
  },
  {
   "cell_type": "markdown",
   "id": "05439579",
   "metadata": {},
   "source": [
    "**Kesimpulan:**\n",
    "- Proses hyperparameter tuning membawa sedikit peningkatan pada model, meskipun peningkatan tersebut tidak terlalu signifikan dalam hal recall.\n",
    "- Peningkatan kecil pada recall, ROC-AUC, dan F2-Score menunjukkan adanya kemajuan, namun masih diperlukan iterasi lebih lanjut untuk mencapai performa yang lebih optimal, khususnya dalam mengurangi false negatives yang bisa berdampak pada hilangnya potensi pendapatan dari nasabah."
   ]
  },
  {
   "cell_type": "markdown",
   "id": "bce4a13e",
   "metadata": {},
   "source": [
    "### 7. Threshold Tuning\n",
    "Setelah dilakukan hyperparameter tuning, peningkatan yang dihasilkan masih terbilang sangat kecil, terutama dalam hal recall, yang merupakan metrik utama dalam mendeteksi nasabah yang berpotensi berdeposito. Oleh karena itu, langkah selanjutnya adalah threshold tuning. Dengan mengatur ambang batas (threshold) prediksi, model dapat lebih difokuskan untuk meminimalkan false negatives, sehingga dapat mendeteksi lebih banyak nasabah yang seharusnya berdeposito. Penyesuaian threshold ini memungkinkan model untuk lebih sensitif terhadap kelas minoritas, yaitu nasabah yang berpotensi berdeposito, dan pada akhirnya meningkatkan recall secara signifikan."
   ]
  },
  {
   "cell_type": "code",
   "execution_count": 31,
   "id": "0a3e5fcd",
   "metadata": {},
   "outputs": [
    {
     "name": "stdout",
     "output_type": "stream",
     "text": [
      "Threshold 0.2: Recall = 0.9186, ROC-AUC = 0.7765, F2 = 0.8045\n"
     ]
    }
   ],
   "source": [
    "# Probabilitas prediksi\n",
    "y_pred_proba = random_search.predict_proba(X_test)[:, 1]\n",
    "\n",
    "# Atur threshold\n",
    "threshold = 0.2 #lebih dari 0.5 untuk precision, sebaliknya untuk recall\n",
    "y_pred_thresh = (y_pred_proba >= threshold).astype(int)\n",
    "\n",
    "# Hitung metrik\n",
    "rec_thresh = recall_score(y_test, y_pred_thresh)\n",
    "roc_thresh = roc_auc_score(y_test, y_pred_proba)\n",
    "f2_tuned = fbeta_score(y_test, y_pred_thresh, beta = 2)\n",
    "\n",
    "print(f'Threshold {threshold}: Recall = {rec_thresh:.4f}, ROC-AUC = {roc_thresh:.4f}, F2 = {f2_tuned:.4f}')"
   ]
  },
  {
   "cell_type": "markdown",
   "id": "0668fa15",
   "metadata": {},
   "source": [
    "**Insight:**\n",
    "- Threshold 0.2 memberikan recall yang lebih moderat (0.9186) dengan precision yang lebih wajar. Ini adalah trade-off yang lebih seimbang antara mengurangi false positives dan tetap menjaga tingkat recall yang tinggi. Dengan recall sekitar 0.91, model dapat mendeteksi sebagian besar nasabah yang berpotensi berdeposito tanpa meningkatkan biaya telemarketing secara signifikan karena false positives tetap terkendali.\n",
    "\n",
    "    Kenapa bukan **threshold 0.1** atau **threshold 0.3**?\n",
    "    - Threshold 0.1 memberikan recall yang sangat tinggi (0.97), namun ini datang dengan pengorbanan yang signifikan pada precision, yang turun drastis. Hal ini menunjukkan bahwa meskipun model dapat mendeteksi hampir semua nasabah yang berpotensi berdeposito, false positives akan meningkat secara besar-besaran, yang berarti akan ada banyak nasabah yang tidak berdeposito tetapi tetap dihubungi. Dalam konteks kampanye telemarketing, hal ini berisiko menambah biaya yang tidak perlu karena tim marketing akan menghubungi banyak nasabah yang seharusnya tidak perlu dihubungi.\n",
    "    - Threshold 0.3 memberikan recall yang lebih rendah (0.81), yang berarti model akan melewatkan beberapa nasabah yang berpotensi berdeposito. Walaupun precision sedikit lebih baik dibandingkan threshold 0.2, kehilangan nasabah berpotensi berdeposito karena penurunan recall bisa berdampak lebih besar pada potensi pendapatan yang hilang, yang merupakan risiko besar dalam konteks kampanye telemarketing.\n",
    "\n",
    "- F2-Score untuk threshold 0.2 adalah 0.8045, yang menunjukkan bahwa model mencapai keseimbangan yang baik antara recall dan precision. F2-Score lebih memperhatikan recall (yang sangat penting dalam mendeteksi nasabah berpotensi berdeposito), dan skor yang tinggi ini mengindikasikan bahwa model secara efektif meminimalkan false negatives sambil mempertahankan precision yang cukup baik. Ini sangat penting dalam konteks telemarketing, di mana kehilangan nasabah yang berpotensi berdeposito (false negatives) memiliki dampak lebih besar daripada false positives.\n",
    "- ROC-AUC tetap 0.7703, yang menunjukkan bahwa kemampuan model untuk membedakan antara kedua kelas (yes dan no) tetap relatif stabil meskipun threshold diubah. Ini berarti bahwa meskipun recall meningkat, model masih dapat membedakan dengan baik antara nasabah yang berpotensi berdeposito dan tidak berdeposito."
   ]
  },
  {
   "cell_type": "markdown",
   "id": "ce66c46c",
   "metadata": {},
   "source": [
    "#### Precision-Recall Curve\n",
    "Pada grafik Precision-Recall Curve dapat dilihat hubungan antara precision dan recall di berbagai threshold yang berbeda."
   ]
  },
  {
   "cell_type": "code",
   "execution_count": 32,
   "id": "45f55427",
   "metadata": {},
   "outputs": [
    {
     "data": {
      "image/png": "[encoded data removed]",
      "text/plain": [
       "<Figure size 800x600 with 1 Axes>"
      ]
     },
     "metadata": {},
     "output_type": "display_data"
    }
   ],
   "source": [
    "from sklearn.metrics import precision_recall_curve\n",
    "\n",
    "# Menghitung precision, recall, dan thresholds\n",
    "precision, recall, thresholds = precision_recall_curve(y_test, y_pred_proba)\n",
    "\n",
    "# Menampilkan Precision-Recall curve\n",
    "plt.figure(figsize = (8, 6))\n",
    "plt.plot(thresholds, precision[:-1], label = 'Precision')\n",
    "plt.plot(thresholds, recall[:-1], label = 'Recall')\n",
    "plt.xlabel('Threshold')\n",
    "plt.ylabel('Score')\n",
    "plt.legend()\n",
    "plt.title('Precision-Recall curve')\n",
    "plt.show()\n"
   ]
  },
  {
   "cell_type": "markdown",
   "id": "07784b14",
   "metadata": {},
   "source": [
    "**Insight:**\n",
    "1. Precision vs Recall:\n",
    "    - Recall meningkat secara signifikan saat threshold diturunkan, yang sesuai dengan tujuan untuk meningkatkan recall dan memastikan sebanyak mungkin nasabah berpotensi berdeposito terdeteksi.\n",
    "    - Precision cenderung menurun ketika threshold diturunkan karena model mulai memprediksi lebih banyak nasabah sebagai positif (nasabah yang berpotensi berdeposito), yang berisiko meningkatkan false positives.\n",
    "2. Threshold dan Trade-off:\n",
    "    - Grafik ini menunjukkan bahwa pada threshold yang lebih rendah, recall meningkat, namun precision menurun. Dengan menurunkan threshold menjadi 0.2, recall mencapai 0.9079, yang menunjukkan bahwa model dapat mendeteksi sebagian besar nasabah berpotensi berdeposito dengan trade-off yang wajar dalam hal precision."
   ]
  },
  {
   "cell_type": "markdown",
   "id": "55e453d1",
   "metadata": {},
   "source": [
    "#### ROC Curve\n",
    "Pada grafik ROC Curve memvisualisasikan hubungan antara True Positive Rate (TPR) dan False Positive Rate (FPR) untuk berbagai threshold."
   ]
  },
  {
   "cell_type": "code",
   "execution_count": 33,
   "id": "6ccb6eb9",
   "metadata": {},
   "outputs": [
    {
     "data": {
      "image/png": "[encoded data removed]",
      "text/plain": [
       "<Figure size 800x600 with 1 Axes>"
      ]
     },
     "metadata": {},
     "output_type": "display_data"
    }
   ],
   "source": [
    "from sklearn.metrics import roc_curve\n",
    "\n",
    "# Menghitung false positive rate, true positive rate dan threshold\n",
    "fpr, tpr, thresholds = roc_curve(y_test, y_pred_proba)\n",
    "\n",
    "# Menampilkan ROC curve\n",
    "plt.figure(figsize = (8, 6))\n",
    "plt.plot(fpr, tpr, label = 'ROC curve')\n",
    "plt.plot([0, 1], [0, 1], linestyle = '--', label = 'Random')\n",
    "plt.xlabel('False Positive Rate')\n",
    "plt.ylabel('True Positive Rate')\n",
    "plt.legend()\n",
    "plt.title('ROC Curve')\n",
    "plt.show()\n"
   ]
  },
  {
   "cell_type": "markdown",
   "id": "1a80f6c3",
   "metadata": {},
   "source": [
    "**Insight:**\n",
    "1. True Positive Rate (TPR) vs False Positive Rate (FPR):\n",
    "    - Grafik menunjukkan bahwa ROC curve terus meningkat seiring dengan penurunan threshold, menunjukkan peningkatan kemampuan model dalam mendeteksi nasabah yang berpotensi berdeposito dengan mengorbankan beberapa false positives.\n",
    "    - Garis diagonal (Random) menunjukkan performa model yang sebanding dengan prediksi acak. Model yang lebih baik akan lebih jauh berada di atas garis ini, yang berarti model ini memiliki True Positive Rate yang lebih tinggi dibandingkan False Positive Rate.\n",
    "2. Evaluasi Model:\n",
    "    - Dengan melihat perbedaan antara ROC curve dan Random line, dapat dikatakan bahwa model memiliki performansi yang jauh lebih baik daripada acak, meskipun ada peningkatan threshold yang dilakukan untuk memaksimalkan recall.\n",
    "    - ROC-AUC pada model yang di-tune adalah 0.7703, yang menunjukkan bahwa model ini cukup baik dalam membedakan antara kelas positif dan negatif meskipun false positives mungkin meningkat karena perubahan threshold."
   ]
  },
  {
   "cell_type": "markdown",
   "id": "57ee6851",
   "metadata": {},
   "source": [
    "### 8. Feature Importance Analysis\n",
    "Setelah melatih model dengan XGBoost dan melakukan preprocessing pada fitur, langkah selanjutnya adalah mengevaluasi pentingnya fitur (feature importance). Analisis ini bertujuan untuk memahami seberapa besar kontribusi setiap fitur terhadap keputusan model. Dengan mengetahui fitur mana yang paling berpengaruh, kita dapat lebih memahami faktor-faktor yang mendorong nasabah untuk berdeposito, serta memfokuskan kampanye marketing pada faktor-faktor yang paling relevan."
   ]
  },
  {
   "cell_type": "code",
   "execution_count": 34,
   "id": "58b8caef",
   "metadata": {},
   "outputs": [
    {
     "name": "stdout",
     "output_type": "stream",
     "text": [
      "                   Feature  Importance\n",
      "30          scale__balance    0.217255\n",
      "29              scale__age    0.185351\n",
      "31         scale__campaign    0.084670\n",
      "32            scale__pdays    0.069333\n",
      "14    cat__contact_unknown    0.055198\n",
      "27   cat__poutcome_success    0.055158\n",
      "11        cat__housing_yes    0.034181\n",
      "28   cat__poutcome_unknown    0.022385\n",
      "12           cat__loan_yes    0.020853\n",
      "22          cat__month_may    0.016639\n",
      "20          cat__month_jun    0.016491\n",
      "0     cat__job_blue-collar    0.015785\n",
      "3      cat__job_management    0.015780\n",
      "15          cat__month_aug    0.015022\n",
      "8      cat__job_technician    0.014438\n",
      "23          cat__month_nov    0.014412\n",
      "13  cat__contact_telephone    0.014319\n",
      "19          cat__month_jul    0.014023\n",
      "24          cat__month_oct    0.013228\n",
      "21          cat__month_mar    0.013150\n",
      "6        cat__job_services    0.010906\n",
      "17          cat__month_feb    0.009670\n",
      "18          cat__month_jan    0.008773\n",
      "1    cat__job_entrepreneur    0.008497\n",
      "5   cat__job_self-employed    0.008302\n",
      "25          cat__month_sep    0.008057\n",
      "9      cat__job_unemployed    0.007659\n",
      "4         cat__job_retired    0.007349\n",
      "7         cat__job_student    0.006290\n",
      "2       cat__job_housemaid    0.005900\n",
      "26     cat__poutcome_other    0.005404\n",
      "16          cat__month_dec    0.002855\n",
      "10        cat__job_unknown    0.002665\n"
     ]
    }
   ],
   "source": [
    "# Mendapatkan nama fitur setelah preprocessing\n",
    "feature_names = random_search.best_estimator_.named_steps['Preprocessing'].get_feature_names_out()\n",
    "\n",
    "# Mendapatkan feature importance dari model XGBoost yang telah di-tuning\n",
    "importances = random_search.best_estimator_.named_steps['model'].feature_importances_\n",
    "\n",
    "# Membuat DataFrame untuk melihat fitur dan importance-nya\n",
    "feat_imp = pd.DataFrame({\n",
    "    'Feature': feature_names,\n",
    "    'Importance': importances\n",
    "}).sort_values('Importance', ascending=False)\n",
    "\n",
    "# Menampilkan DataFrame menggunakan pandas\n",
    "import pandas as pd\n",
    "print(feat_imp)"
   ]
  },
  {
   "cell_type": "markdown",
   "id": "483b5d22",
   "metadata": {},
   "source": [
    "**Insight:**\n",
    "\n",
    "1. **Fitur Paling Penting:**  \n",
    "   - `scale__balance` memiliki importance tertinggi (0.2173), menunjukkan bahwa saldo nasabah adalah faktor yang paling berpengaruh dalam keputusan untuk berdeposito. Nasabah dengan saldo lebih tinggi cenderung memiliki kecenderungan lebih besar untuk berinvestasi pada produk deposito.  \n",
    "   - `scale__age` memiliki importance signifikan (0.1854), mengindikasikan bahwa usia nasabah memengaruhi keputusan untuk berdeposito. Nasabah yang lebih tua kemungkinan memiliki kestabilan finansial yang lebih baik dan lebih tertarik pada produk investasi jangka panjang.  \n",
    "   - `scale__campaign` (0.0847) dan `scale__pdays` (0.0693) menunjukkan pentingnya kampanye sebelumnya dan waktu kontak terakhir dalam memprediksi keputusan nasabah. Nasabah yang lebih sering terlibat dalam kampanye atau baru-baru ini dihubungi lebih cenderung untuk berdeposito.  \n",
    "\n",
    "2. **Fitur Kategorikal:**  \n",
    "   - `cat__contact_unknown` (0.0552) menunjukkan bahwa meskipun saluran komunikasi yang tidak terdaftar sebelumnya memiliki pengaruh cukup besar, hal ini bisa menjadi indikator penting terkait metode komunikasi yang efektif untuk konversi.  \n",
    "   - `cat__poutcome_success` (0.0552) juga sangat penting. Hasil kampanye sebelumnya yang berhasil menunjukkan bahwa nasabah yang terlibat dalam kampanye sukses lebih mungkin untuk berdeposito. Menargetkan nasabah yang sudah berinteraksi dalam kampanye sukses dapat menjadi strategi efektif.  \n",
    "   - `cat__housing_yes` dan `cat__loan_yes` menunjukkan bahwa nasabah yang memiliki kewajiban pinjaman atau kepemilikan rumah lebih cenderung berpotensi untuk berdeposito, karena ini mencerminkan kestabilan finansial dan kemauan untuk berinvestasi.  \n",
    "\n",
    "3. **Waktu Kontak:**  \n",
    "   - Beberapa bulan seperti `cat__month_may`, `cat__month_jun`, dan `cat__month_oct` memiliki pengaruh lebih besar. Ini menunjukkan bahwa waktu kontak dapat berperan dalam keputusan nasabah untuk berdeposito, dengan bulan tertentu lebih cenderung menghasilkan konversi. Faktor musiman atau perencanaan finansial tahunan nasabah bisa mempengaruhi keputusan mereka.  \n",
    "\n",
    "4. **Fitur dengan Importance Rendah:**  \n",
    "   - Beberapa fitur pekerjaan seperti `cat__job_unknown`, `cat__job_technician`, dan `cat__job_services` memiliki importance rendah. Meskipun informasi pekerjaan tetap penting, pengaruhnya terhadap keputusan nasabah untuk berdeposito relatif kecil. Tim marketing dapat lebih fokus pada fitur-fitur lain yang lebih signifikan dalam meningkatkan konversi.  \n",
    "\n",
    "5. **Kesimpulan Strategi Marketing:**  \n",
    "   - Berdasarkan pentingnya fitur seperti saldo (`balance`) dan usia (`age`), serta hasil kampanye sebelumnya (`poutcome_success`), strategi marketing dapat difokuskan pada nasabah dengan saldo lebih tinggi dan yang lebih tua, serta mereka yang sudah berpartisipasi dalam kampanye sukses.  \n",
    "   - Waktu yang tepat untuk menghubungi nasabah juga menjadi faktor penting, dengan bulan-bulan tertentu menunjukkan potensi konversi yang lebih tinggi.  "
   ]
  },
  {
   "cell_type": "markdown",
   "id": "13504d1b",
   "metadata": {},
   "source": [
    "## Save Model\n",
    "Pada bagian ini, model hasil tuning yang telah dilatih menggunakan RandomizedSearchCV disimpan ke dalam file menggunakan Pickle. Proses ini penting untuk memastikan bahwa model yang telah dilatih dan dioptimalkan dapat digunakan kembali di lain waktu tanpa perlu melatih ulang, yang dapat menghemat waktu dan sumber daya komputasi.\n",
    "\n",
    "Langkah-langkah yang dilakukan:\n",
    "- Model disimpan dalam file dengan format .pkl menggunakan pickle.dump().\n",
    "- Ini memungkinkan pemuatan model kembali tanpa perlu melakukan pelatihan ulang, yang sangat efisien untuk digunakan pada sistem produksi atau dalam pengujian lebih lanjut."
   ]
  },
  {
   "cell_type": "code",
   "execution_count": null,
   "id": "c527ad00",
   "metadata": {},
   "outputs": [
    {
     "name": "stdout",
     "output_type": "stream",
     "text": [
      "Model telah disimpan menggunakan Pickle.\n"
     ]
    }
   ],
   "source": [
    "import pickle\n",
    "\n",
    "# Menyimpan model ke file menggunakan pickle\n",
    "with open('Model_Bank_Marketing_Campaign.pkl', 'wb') as file:\n",
    "    pickle.dump(random_search, file)\n",
    "\n",
    "print(\"Model telah disimpan menggunakan Pickle.\")"
   ]
  },
  {
   "cell_type": "markdown",
   "id": "92abd777",
   "metadata": {},
   "source": [
    "## Load Model\n",
    "Setelah model disimpan, model dapat dimuat kembali kapan saja untuk digunakan dalam prediksi lebih lanjut atau evaluasi. Proses pemuatan model memungkinkan penggunaan model yang telah disimpan pada aplikasi lain, atau untuk menguji model pada data yang berbeda tanpa melakukan pelatihan ulang.\n",
    "\n",
    "Langkah-langkah yang dilakukan:\n",
    "- Model dimuat kembali dari file .pkl menggunakan pickle.load().\n",
    "- Pemuatan model ini memungkinkan untuk langsung menggunakan model yang telah dioptimalkan tanpa memerlukan data pelatihan atau konfigurasi ulang."
   ]
  },
  {
   "cell_type": "code",
   "execution_count": null,
   "id": "b5f5d9f9",
   "metadata": {},
   "outputs": [
    {
     "name": "stdout",
     "output_type": "stream",
     "text": [
      "Model berhasil dimuat.\n"
     ]
    }
   ],
   "source": [
    "# Memuat model dari file\n",
    "with open('Model_Bank_Marketing_Campaign.pkl', 'rb') as file:\n",
    "    loaded_model = pickle.load(file)\n",
    "\n",
    "print(\"Model berhasil dimuat.\")"
   ]
  },
  {
   "cell_type": "markdown",
   "id": "35cf9c28",
   "metadata": {},
   "source": [
    "## Testing\n",
    "Setelah model dimuat, kita dapat mengujinya dengan test data yang telah disiapkan sebelumnya. Tujuan pengujian ini adalah untuk evaluasi performa model pada data yang tidak digunakan selama pelatihan, guna memastikan bahwa model dapat menghasilkan prediksi yang akurat dan dapat digeneralisasi dengan baik.\n",
    "\n",
    "Langkah-langkah yang dilakukan:\n",
    "- Menggunakan data uji (test data) yang telah disiapkan untuk mengevaluasi kinerja model yang dimuat.\n",
    "- Melakukan prediksi menggunakan model yang telah dimuat dan membandingkan hasil prediksi dengan label yang sebenarnya untuk menghitung metrik kinerja seperti accuracy, precision, recall, dan lain-lain."
   ]
  },
  {
   "cell_type": "code",
   "execution_count": null,
   "id": "bbb2b5e7",
   "metadata": {},
   "outputs": [
    {
     "name": "stdout",
     "output_type": "stream",
     "text": [
      "             job housing loan    contact month poutcome  age  balance  \\\n",
      "0         admin.     yes   no   cellular   jan  success   28     1200   \n",
      "1  self-employed      no  yes  telephone   feb  failure   34      800   \n",
      "2    blue-collar     yes   no   cellular   mar    other   45     1500   \n",
      "\n",
      "   campaign  pdays  \n",
      "0         3     10  \n",
      "1         2     50  \n",
      "2         4     20  \n"
     ]
    }
   ],
   "source": [
    "# Test data\n",
    "test_data = pd.DataFrame([\n",
    "    {\n",
    "        'job': 'admin.', \n",
    "        'housing': 'yes', \n",
    "        'loan': 'no', \n",
    "        'contact': 'cellular', \n",
    "        'month': 'jan', \n",
    "        'poutcome': 'success', \n",
    "        'age': 28, \n",
    "        'balance': 1200, \n",
    "        'campaign': 3, \n",
    "        'pdays': 10\n",
    "    },\n",
    "    {\n",
    "        'job': 'self-employed', \n",
    "        'housing': 'no', \n",
    "        'loan': 'yes', \n",
    "        'contact': 'telephone', \n",
    "        'month': 'feb', \n",
    "        'poutcome': 'failure', \n",
    "        'age': 34, \n",
    "        'balance': 800, \n",
    "        'campaign': 2, \n",
    "        'pdays': 50\n",
    "    },\n",
    "    {\n",
    "        'job': 'blue-collar', \n",
    "        'housing': 'yes', \n",
    "        'loan': 'no', \n",
    "        'contact': 'cellular', \n",
    "        'month': 'mar', \n",
    "        'poutcome': 'other', \n",
    "        'age': 45, \n",
    "        'balance': 1500, \n",
    "        'campaign': 4, \n",
    "        'pdays': 20\n",
    "    }\n",
    "])\n",
    "\n",
    "# Menampilkan contoh test data\n",
    "print(test_data)"
   ]
  },
  {
   "cell_type": "markdown",
   "id": "69547246",
   "metadata": {},
   "source": [
    "**Insight:**\n",
    "1. Nasabah pertama (job: admin., housing: yes, loan: no, contact: cellular, month: jan, poutcome: success, age: 28, balance: 1200, campaign: 3, pdays: 10)  \n",
    "2. Nasabah kedua (job: self-employed, housing: no, loan: yes, contact: telephone, month: feb, poutcome: failure, age: 34, balance: 800, campaign: 2, pdays: 50)  \n",
    "3. Nasabah ketiga (job: blue-collar, housing: yes, loan: no, contact: cellular, month: mar, poutcome: other, age: 45, balance: 1500, campaign: 4, pdays: 20)"
   ]
  },
  {
   "cell_type": "code",
   "execution_count": null,
   "id": "1db841a3",
   "metadata": {},
   "outputs": [
    {
     "name": "stdout",
     "output_type": "stream",
     "text": [
      "Predictions: [1 0 1]\n",
      "Predicted Probabilities: [0.8669129  0.15844016 0.88979214]\n"
     ]
    }
   ],
   "source": [
    "# Menggunakan pipeline yang sudah dilatih (termasuk preprocessing)\n",
    "y_pred = loaded_model.predict(test_data)\n",
    "y_pred_proba = loaded_model.predict_proba(test_data)[:, 1]\n",
    "\n",
    "# Menampilkan hasil prediksi\n",
    "print(\"Predictions:\", y_pred)\n",
    "print(\"Predicted Probabilities:\", y_pred_proba)"
   ]
  },
  {
   "cell_type": "markdown",
   "id": "31131b29",
   "metadata": {},
   "source": [
    "**Prediksi dan Probabilitas:**\n",
    "\n",
    "Predictions: \\[1 0 1]  \n",
    "- Nasabah pertama dan ketiga diprediksi akan berdeposito (kelas 1), sementara nasabah kedua diprediksi tidak akan berdeposito (kelas 0).\n",
    "\n",
    "Predicted Probabilities: \\[0.8669129  0.15844016 0.88979214]  \n",
    "- Nasabah pertama: Probabilitas 0.8669 untuk berdeposito, menunjukkan bahwa model cukup yakin bahwa nasabah ini akan berdeposito.  \n",
    "- Nasabah kedua: Probabilitas 0.1584 untuk berdeposito, yang menunjukkan bahwa model sangat yakin bahwa nasabah ini tidak berdeposito (dengan probabilitas tinggi untuk kelas 0).  \n",
    "- Nasabah ketiga: Probabilitas 0.8898 untuk berdeposito, menunjukkan keyakinan yang tinggi bahwa nasabah ini akan berdeposito."
   ]
  },
  {
   "cell_type": "markdown",
   "id": "f47ba3ce",
   "metadata": {},
   "source": [
    "## Kesimpulan & Rekomendasi"
   ]
  },
  {
   "cell_type": "markdown",
   "id": "6d84d6f2",
   "metadata": {},
   "source": [
    "### Kesimpulan\n",
    "\n",
    "Berdasarkan analisis yang dilakukan, berikut adalah temuan utama terkait model dan aplikasinya dalam konteks kampanye telemarketing deposito berjangka:\n",
    "\n",
    "1. Pentingnya Fitur Utama:  \n",
    "   Fitur seperti `scale__balance` (saldo nasabah) dan `scale__age` (usia nasabah) memiliki pengaruh signifikan dalam memprediksi nasabah yang berpotensi berdeposito. Nasabah dengan saldo lebih tinggi dan usia yang lebih tua cenderung lebih tertarik pada produk deposito. Oleh karena itu, tim marketing sebaiknya memprioritaskan nasabah dengan saldo tinggi dan usia yang lebih tua dalam kampanye telemarketing.\n",
    "\n",
    "2. Performa Model:  \n",
    "   Threshold 0.2 memberikan recall tinggi (0.9186), yang menunjukkan model sudah sangat efektif dalam mendeteksi nasabah yang berpotensi berdeposito. Dengan precision yang seimbang, model ini mampu menjaga false positives terkendali sehingga biaya telemarketing tidak meningkat signifikan. Hasil ini menunjukkan bahwa model telah mencapai performa optimal untuk kampanye telemarketing tanpa penyesuaian lebih lanjut pada recall.\n",
    "\n",
    "3. Threshold Tuning:  \n",
    "   Dengan threshold 0.2, model mencapai recall yang sangat tinggi tanpa mengorbankan precision, memberikan pendekatan yang lebih ekonomis untuk kampanye telemarketing. False negatives berhasil diminimalkan, yang sangat penting dalam konteks biaya peluang yang tinggi. Ini membuat threshold 0.2 menjadi pilihan yang baik untuk menyeimbangkan performa model dan biaya operasional.\n",
    "\n",
    "4. Pengujian pada Data Uji:  \n",
    "   Pengujian menunjukkan bahwa meskipun beberapa false negatives masih terjadi, hasil recall yang sangat tinggi menandakan bahwa model cukup efektif dalam memprediksi nasabah yang berpotensi berdeposito. Hal ini menunjukkan bahwa model dapat diterapkan secara efektif dalam kampanye telemarketing.\n",
    "\n",
    "---\n",
    "\n",
    "### Rekomendasi\n",
    "\n",
    "1. Fokus pada Nasabah dengan Saldo Lebih Tinggi dan Usia Lebih Tua:  \n",
    "   Mengingat pengaruh besar `scale__balance` dan `scale__age`, tim marketing sebaiknya memprioritaskan nasabah dengan saldo lebih tinggi dan usia yang lebih tua, karena mereka lebih cenderung berinvestasi dalam produk deposito.\n",
    "\n",
    "2. Optimalisasi Waktu Kampanye:  \n",
    "   Beberapa bulan seperti `mar`, `oct`, dan `sep` menunjukkan pengaruh signifikan dalam meningkatkan konversi. Oleh karena itu, tim marketing sebaiknya mengoptimalkan penjadwalan kampanye telemarketing pada bulan-bulan tersebut untuk meningkatkan peluang konversi.\n",
    "\n",
    "3. Threshold 0.2 sebagai Pendekatan Optimal:  \n",
    "   Berdasarkan hasil threshold tuning, threshold 0.2 memberikan trade-off terbaik antara recall dan precision. Dengan recall 0.9186 dan false positives yang terkendali, pendekatan ini sudah optimal dan tidak perlu dilakukan penyesuaian lebih lanjut. Tim marketing dapat melanjutkan dengan threshold ini untuk mendapatkan hasil maksimal tanpa meningkatkan biaya secara signifikan.\n",
    "\n",
    "4. Penggunaan Fitur Keuangan untuk Penargetan:  \n",
    "   Status pinjaman dan kepemilikan rumah merupakan indikator penting dalam memprediksi nasabah yang lebih cenderung berdeposito. Tim marketing harus lebih memfokuskan usaha pada nasabah dengan status keuangan yang stabil, seperti memiliki rumah atau pinjaman yang terkendali, karena mereka lebih cenderung tertarik pada produk investasi seperti deposito."
   ]
  }
 ],
 "metadata": {
  "kernelspec": {
   "display_name": "base",
   "language": "python",
   "name": "python3"
  },
  "language_info": {
   "codemirror_mode": {
    "name": "ipython",
    "version": 3
   },
   "file_extension": ".py",
   "mimetype": "text/x-python",
   "name": "python",
   "nbconvert_exporter": "python",
   "pygments_lexer": "ipython3",
   "version": "3.12.7"
  }
 },
 "nbformat": 4,
 "nbformat_minor": 5
}
